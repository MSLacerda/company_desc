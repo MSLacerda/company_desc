{
 "cells": [
  {
   "cell_type": "code",
   "execution_count": 1,
   "metadata": {
    "id": "Vr0yFpLF2Nrq"
   },
   "outputs": [
    {
     "name": "stderr",
     "output_type": "stream",
     "text": [
      "C:\\Users\\mathe\\AppData\\Roaming\\Python\\Python38\\site-packages\\pandas\\core\\computation\\expressions.py:20: UserWarning: Pandas requires version '2.7.3' or newer of 'numexpr' (version '2.7.1' currently installed).\n",
      "  from pandas.core.computation.check import NUMEXPR_INSTALLED\n"
     ]
    }
   ],
   "source": [
    "import pandas as pd\n",
    "import nltk\n",
    "import spacy\n",
    "import sys\n",
    "import os"
   ]
  },
  {
   "cell_type": "markdown",
   "metadata": {},
   "source": [
    "# Problem: Company Description Analysis for Marketing Segmentation\n",
    "\n",
    "Dataset: The dataset contains company IDs and their corresponding descriptions. The goal is to analyze the company descriptions and identify meaningful clusters of companies based on their business profiles. This analysis will help in customer segmentation and targeted marketing strategies.\n",
    "\n",
    "## Hypothesis:\n",
    "\n",
    "Company segmentation based on their description involves categorizing companies into distinct groups or segments based on the content and language used in their descriptions. The hypothesis proposes that utilizing company description as a segmentation criterion can yield several benefits:\n",
    "\n",
    "## Approach:\n",
    "\n",
    "The objective of this project is to develop a model that can segment a set of companies based on their specific description. The model will be trained using the company description dataset, utilizing NLP techniques and clustering analysis to identify meaningful patterns and groupings of companies.\n",
    "\n",
    "* Data Preprocessing: The company descriptions will undergo preprocessing steps such as removing non-printable characters, line breaks, duplicated spaces, and leading/trailing spaces. Additionally, text normalization techniques will be applied, including removing stop words and lemmatizing the tokens, using tools like Spacy.\n",
    "\n",
    "* Feature Engineering: The preprocessed company descriptions will be transformed into meaningful features that capture the essence of each description. These features may include word frequencies, word2vec scores, token counts, and other relevant textual attributes.\n",
    "\n",
    "* Clustering Analysis: The transformed features will be used to train a clustering model, such as K-means, to identify distinct groups or clusters of companies. The optimal number of clusters will be determined using techniques like the elbow method or silhouette analysis.\n",
    "\n",
    "* Model Delivery: The final deliverable will be the trained clustering model\n",
    "\n",
    "## Conclusion:\n",
    "\n",
    "By leveraging NLP techniques and clustering analysis, this project aims to deliver a model that can segment a set of companies based on their description. The model will analyze the company descriptions, identify distinct clusters, and match user preferences with the relevant clusters. This approach empowers users to find companies that align with their specific needs and facilitates more targeted and personalized recommendations."
   ]
  },
  {
   "cell_type": "markdown",
   "metadata": {},
   "source": [
    "The cell below allows the automatic reload of the module when their code changes."
   ]
  },
  {
   "cell_type": "code",
   "execution_count": 2,
   "metadata": {},
   "outputs": [],
   "source": [
    "%load_ext autoreload\n",
    "%autoreload 2"
   ]
  },
  {
   "cell_type": "markdown",
   "metadata": {},
   "source": [
    "Update the following constants to work in your enviroment"
   ]
  },
  {
   "cell_type": "code",
   "execution_count": 3,
   "metadata": {},
   "outputs": [],
   "source": [
    "PROJECT_BASE_PATH = 'C:\\\\projects\\\\a3_test'\n",
    "DATA_BASE_PATH = os.path.join(PROJECT_BASE_PATH, 'data')\n",
    "SPACY_MODEL = 'en_core_web_md'"
   ]
  },
  {
   "cell_type": "code",
   "execution_count": 4,
   "metadata": {},
   "outputs": [],
   "source": [
    "def get_spacy_model(new_model: bool = False, **kwargs):\n",
    "    \"\"\"\n",
    "    !IMPORTANT!\n",
    "    Use this function to get the loaded spacy model or load a\n",
    "    new one\n",
    "    \"\"\"\n",
    "    \n",
    "    if new_model:\n",
    "        return spacy.load(SPACY_MODEL, **kwargs)\n",
    "    \n",
    "    if 'spacy_model' in globals():\n",
    "        return globals()['spacy_model']\n",
    "    else:\n",
    "        spacy_model = spacy.load(SPACY_MODEL)\n",
    "        \n",
    "        return spacy_model"
   ]
  },
  {
   "cell_type": "code",
   "execution_count": 5,
   "metadata": {},
   "outputs": [],
   "source": [
    "spacy_model = get_spacy_model()"
   ]
  },
  {
   "cell_type": "code",
   "execution_count": 6,
   "metadata": {},
   "outputs": [],
   "source": [
    "sys.path.append(PROJECT_BASE_PATH)"
   ]
  },
  {
   "cell_type": "code",
   "execution_count": 7,
   "metadata": {},
   "outputs": [],
   "source": [
    "## Defining our custom functions\n",
    "\n",
    "from src.preprocessing.text import normalize_text, remove_noisy_texts, add_textual_statistics\n",
    "from src.preprocessing.reports import duplicated_report, missing_values_report\n",
    "from src.analysis.companies import detect_company_name\n",
    "from src.utils import printmd"
   ]
  },
  {
   "cell_type": "markdown",
   "metadata": {
    "id": "LwHEaxCPOank"
   },
   "source": [
    "## Getting started 🚀\n",
    "\n",
    "In this initial phase of our Natural Language Processing (NLP) exploratory data analysis (EDA), our goal is to gain a comprehensive understanding of the dataset at hand. We will begin by loading the data and performing a preliminary analysis to establish a solid foundation for our subsequent NLP investigations.\n",
    "\n",
    "### Data Loading and Overview 📊🔍\n",
    "\n",
    "Firstly, we will load the dataset and examine its structure and content. This step involves understanding the columns and their respective data types, as well as the number of entries available. By doing so, we can ensure that we have a clear picture of the data we are working with."
   ]
  },
  {
   "cell_type": "code",
   "execution_count": 8,
   "metadata": {
    "id": "YFzhleidOKZB"
   },
   "outputs": [],
   "source": [
    "filepath = os.path.join(DATA_BASE_PATH, 'raw', 'id_desc.csv')\n",
    "\n",
    "data = pd.read_csv(filepath)"
   ]
  },
  {
   "cell_type": "code",
   "execution_count": 9,
   "metadata": {
    "colab": {
     "base_uri": "https://localhost:8080/",
     "height": 424
    },
    "id": "7B4xnA-_OXnb",
    "outputId": "1e617491-6f5b-4150-a940-f214eb1f9dca"
   },
   "outputs": [
    {
     "data": {
      "text/html": [
       "<div>\n",
       "<style scoped>\n",
       "    .dataframe tbody tr th:only-of-type {\n",
       "        vertical-align: middle;\n",
       "    }\n",
       "\n",
       "    .dataframe tbody tr th {\n",
       "        vertical-align: top;\n",
       "    }\n",
       "\n",
       "    .dataframe thead th {\n",
       "        text-align: right;\n",
       "    }\n",
       "</style>\n",
       "<table border=\"1\" class=\"dataframe\">\n",
       "  <thead>\n",
       "    <tr style=\"text-align: right;\">\n",
       "      <th></th>\n",
       "      <th>id</th>\n",
       "      <th>desc</th>\n",
       "    </tr>\n",
       "  </thead>\n",
       "  <tbody>\n",
       "    <tr>\n",
       "      <th>2683</th>\n",
       "      <td>abe9ca4a-ac4d-4c5a-86e7-be40434f6870</td>\n",
       "      <td>Caption Health will use this funding to scale ...</td>\n",
       "    </tr>\n",
       "    <tr>\n",
       "      <th>1893</th>\n",
       "      <td>67c62c64-5cc4-42ec-84fe-f847a140c797</td>\n",
       "      <td>Our company, Trendful, is building a multi-cha...</td>\n",
       "    </tr>\n",
       "    <tr>\n",
       "      <th>1260</th>\n",
       "      <td>2fd0ef84-4f20-4858-8405-c74dbcedac88</td>\n",
       "      <td>Measured helps brands grow by measuring increm...</td>\n",
       "    </tr>\n",
       "    <tr>\n",
       "      <th>1918</th>\n",
       "      <td>6a0955fd-9aec-41cd-9823-0f6fad7a57db</td>\n",
       "      <td>ThisFish’s mission is to improve profits and s...</td>\n",
       "    </tr>\n",
       "    <tr>\n",
       "      <th>415</th>\n",
       "      <td>ea57f20f-0ead-40fd-8d32-84bbe8e3093e</td>\n",
       "      <td>Clinical Research IO is a health tech company ...</td>\n",
       "    </tr>\n",
       "  </tbody>\n",
       "</table>\n",
       "</div>"
      ],
      "text/plain": [
       "                                        id  \\\n",
       "2683  abe9ca4a-ac4d-4c5a-86e7-be40434f6870   \n",
       "1893  67c62c64-5cc4-42ec-84fe-f847a140c797   \n",
       "1260  2fd0ef84-4f20-4858-8405-c74dbcedac88   \n",
       "1918  6a0955fd-9aec-41cd-9823-0f6fad7a57db   \n",
       "415   ea57f20f-0ead-40fd-8d32-84bbe8e3093e   \n",
       "\n",
       "                                                   desc  \n",
       "2683  Caption Health will use this funding to scale ...  \n",
       "1893  Our company, Trendful, is building a multi-cha...  \n",
       "1260  Measured helps brands grow by measuring increm...  \n",
       "1918  ThisFish’s mission is to improve profits and s...  \n",
       "415   Clinical Research IO is a health tech company ...  "
      ]
     },
     "execution_count": 9,
     "metadata": {},
     "output_type": "execute_result"
    }
   ],
   "source": [
    "data.sample(5)"
   ]
  },
  {
   "cell_type": "code",
   "execution_count": 10,
   "metadata": {
    "colab": {
     "base_uri": "https://localhost:8080/"
    },
    "id": "OeO2w342Oi0c",
    "outputId": "c9fdfa41-be5e-4f83-f1de-688804808426"
   },
   "outputs": [
    {
     "name": "stdout",
     "output_type": "stream",
     "text": [
      "<class 'pandas.core.frame.DataFrame'>\n",
      "RangeIndex: 3617 entries, 0 to 3616\n",
      "Data columns (total 2 columns):\n",
      " #   Column  Non-Null Count  Dtype \n",
      "---  ------  --------------  ----- \n",
      " 0   id      3617 non-null   object\n",
      " 1   desc    3553 non-null   object\n",
      "dtypes: object(2)\n",
      "memory usage: 56.6+ KB\n"
     ]
    }
   ],
   "source": [
    "data.info()"
   ]
  },
  {
   "cell_type": "markdown",
   "metadata": {
    "id": "BSSo0CGo2q_A"
   },
   "source": [
    "### Data Exploration 📈\n",
    "\n",
    "Next, we will delve into exploring the textual nature of the dataset. Since this is an NLP-focused EDA, we won't have traditional statistical metrics at our disposal. Instead, our focus will be on understanding the characteristics of the textual data, such as the distribution of text lengths, identifying any missing values, and investigating the presence of duplicates."
   ]
  },
  {
   "cell_type": "markdown",
   "metadata": {},
   "source": [
    "### Missing Values 🚫\n",
    "\n",
    "It's essential to identify and handle missing values appropriately. We will explore the 'desc' column to determine the presence and extent of missing data. Understanding the extent of missing values will guide our preprocessing decisions and ensure the integrity of subsequent analyses."
   ]
  },
  {
   "cell_type": "code",
   "execution_count": 11,
   "metadata": {
    "colab": {
     "base_uri": "https://localhost:8080/"
    },
    "id": "xu4zo73IOtZX",
    "outputId": "a4b8b53b-9fa1-4eac-90f0-97f1150f9ce3"
   },
   "outputs": [
    {
     "data": {
      "text/markdown": [
       "### Missing Values Report\n",
       "\n",
       "- **id**: 0 missing values (0.00%)\n",
       "- **desc**: 64 missing values (1.77%)\n"
      ],
      "text/plain": [
       "<IPython.core.display.Markdown object>"
      ]
     },
     "metadata": {},
     "output_type": "display_data"
    }
   ],
   "source": [
    "columns = ['id', 'desc']\n",
    "\n",
    "missing_values_report(data, columns)"
   ]
  },
  {
   "cell_type": "code",
   "execution_count": 12,
   "metadata": {
    "id": "OhV4sv4ATxyy"
   },
   "outputs": [],
   "source": [
    "cleaned_data = data[~data['desc'].isna()]"
   ]
  },
  {
   "cell_type": "code",
   "execution_count": 13,
   "metadata": {},
   "outputs": [
    {
     "data": {
      "text/markdown": [
       "### Missing Values Report\n",
       "\n",
       "- **id**: 0 missing values (0.00%)\n",
       "- **desc**: 0 missing values (0.00%)\n"
      ],
      "text/plain": [
       "<IPython.core.display.Markdown object>"
      ]
     },
     "metadata": {},
     "output_type": "display_data"
    }
   ],
   "source": [
    "columns = ['id', 'desc']\n",
    "\n",
    "missing_values_report(cleaned_data, columns)"
   ]
  },
  {
   "cell_type": "markdown",
   "metadata": {
    "id": "U-X-NRLP2vG8"
   },
   "source": [
    "#### Text Normalization step ✨\n",
    "\n",
    "Text normalization is a crucial step in natural language processing (NLP) tasks, as it helps to standardize and clean text data, making it easier to analyze and process.\n",
    "\n",
    " * The normalize_text function aims to perform text normalization operations on the specified columns of a pandas DataFrame.\n",
    " * The steps involved in the text normalization process are as follows:\n",
    "     * Removing non-printable characters: Non-printable characters, such as control characters or special symbols, are removed from the text data. This step ensures that only printable ASCII characters are retained, making the text more readable and consistent.\n",
    "     * Replacing line breaks: Line breaks, represented by '\\r' and '\\n', are replaced with a space (' '). This step ensures that the text remains in a single line, as line breaks may not be meaningful in certain NLP analyses.\n",
    "     * Removing duplicated spaces: Any duplicated spaces within the text are reduced to a single space. This helps in standardizing the whitespace and simplifying the text structure.\n",
    "     * Stripping leading/trailing spaces: Leading and trailing spaces in the text are removed. This step ensures that there are no unnecessary spaces at the beginning or end of the text, which could affect subsequent analyses or comparisons.\n"
   ]
  },
  {
   "cell_type": "code",
   "execution_count": 14,
   "metadata": {
    "id": "1PKa3QCI3Yw2"
   },
   "outputs": [],
   "source": [
    "normalized_data = normalize_text(cleaned_data, columns=['id', 'desc'])"
   ]
  },
  {
   "cell_type": "code",
   "execution_count": 15,
   "metadata": {
    "colab": {
     "base_uri": "https://localhost:8080/"
    },
    "id": "BuHWNYrL5B3u",
    "outputId": "d2a7c04b-a60a-4986-a087-1c06b7da7232"
   },
   "outputs": [
    {
     "data": {
      "text/plain": [
       "[{'id': '24b73ee5-df80-4a5a-9ebc-0275ea07b773',\n",
       "  'desc': 'Redsalud is a private health organization that delivers healthcare services, insurance, imaging, laboratory testing and surgeries.'},\n",
       " {'id': '1d680735-bbe0-4213-9613-d15fac7b69c4',\n",
       "  'desc': 'Pimloc is a British tech company setup at the end of 2016, which provides specialist deep learningservices for video security and data privacy applications. It has developed a world leadingplatform for the ingestion, detection, classification, and protection of image and video content.This platform powers two products across the private andpublic sector: 1) Pholio: A system foridentifying specialist visual content in large collections and streams and 2) Secure Redact: Asystem for anonymising sensitive content in large scale video.Read More'}]"
      ]
     },
     "execution_count": 15,
     "metadata": {},
     "output_type": "execute_result"
    }
   ],
   "source": [
    "normalized_data.sample(2).to_dict(orient='records')"
   ]
  },
  {
   "cell_type": "markdown",
   "metadata": {
    "id": "toBO0S0LO4dn"
   },
   "source": [
    "### Duplicates 📑\n",
    "\n",
    "Duplicate records can introduce bias and distort our analyses. We will perform a thorough check for duplicate entries within the dataset, aiming to identify and eliminate any redundant data. This step is crucial for maintaining data quality and accuracy throughout our NLP analysis."
   ]
  },
  {
   "cell_type": "code",
   "execution_count": 16,
   "metadata": {
    "colab": {
     "base_uri": "https://localhost:8080/"
    },
    "id": "amxjxCmeO64D",
    "outputId": "664b0c81-09e3-4fac-cca1-5b123ed4771e"
   },
   "outputs": [
    {
     "data": {
      "text/markdown": [
       "### Duplicates Report\n",
       "\n",
       "- **id**: 0 duplicates (0.00%)\n",
       "- **desc**: 101 duplicates (2.84%)\n"
      ],
      "text/plain": [
       "<IPython.core.display.Markdown object>"
      ]
     },
     "metadata": {},
     "output_type": "display_data"
    }
   ],
   "source": [
    "columns = ['id', 'desc']\n",
    "\n",
    "duplicated_report(normalized_data, columns)"
   ]
  },
  {
   "cell_type": "code",
   "execution_count": 17,
   "metadata": {
    "id": "DuQnQvypTl7Z"
   },
   "outputs": [],
   "source": [
    "duplicates = normalized_data[normalized_data.duplicated(subset='desc')]"
   ]
  },
  {
   "cell_type": "code",
   "execution_count": 18,
   "metadata": {
    "colab": {
     "base_uri": "https://localhost:8080/"
    },
    "id": "V8ipH4HJVEWy",
    "outputId": "6ad0c720-165f-4b59-888d-d4527727e0b0"
   },
   "outputs": [
    {
     "data": {
      "text/plain": [
       "[{'id': '0f108bb1-5f38-4a16-ac96-9119893ef134',\n",
       "  'desc': 'Senseye was created to shape the future of computing. Here at Senseye, it is our core mission to bring the most intelligent and creative minds together in order to shape our aspirations for the future. Our goal is to create an emotional resonance between humans and computers that mirrors the intimate resonance that exists between people.Foundedwith the vision of shaping the future of computing, and that is exactly what we are doing. We have always been inspired by the words President John F. Kennedy spoke in September 1962, when he announced that the United States would seek to send a man to the moon. In the spirit of exploring new worlds, our companys purpose is to work on moonshots much like the bold, inspiring goal to land a man on the moon, set more than 50 years ago. A moonshot is defined as a project that addresses an enormous problem, proposes a radical solution and uses breakthrough technology.Senseye uses novel non-invasive measurements of ocular physiology to quantify patterns of cognitive ability, human performance, health and psychological wellbeing including vital signs, attention and recognition/cognitive load, and fatigue and impairment. As we progress the technology we will increasingly focus on emotional responses and mental health condition for diagnosis. Senseye delivers previously unavailable cognitive & health insights via standard camera equipment.Read More'},\n",
       " {'id': 'b1d10aad-5b62-482d-8f20-24c0f5f4f4d8',\n",
       "  'desc': 'Enerbrain turns wasteful buildings into smarter, healthier & more sustainable ones. Our smart retrofit system is the Energy Brain for non residential buildings thanks to innovative IoT hardware and powerful algorithms in the cloud to fine-tune energy usage in real time allowing 30% operational savings. Our focus goes beyond energy byproviding the best indoor air quality and educating occupants in order to generate a wider social impact thanks to engagement tools and a new way to access data across devices. Get in touch to find out more.Read More'},\n",
       " {'id': '8c5c384a-4cf7-4d23-8cfe-070e07bd06a7',\n",
       "  'desc': 'WireWheel.io is a software company that revolutionizes data privacy and protection as-a-service for companies. WireWheel delivers a cloud-based solution to to help global organizations become GDPR-ready and operationalize privacy in the enterprise.'}]"
      ]
     },
     "execution_count": 18,
     "metadata": {},
     "output_type": "execute_result"
    }
   ],
   "source": [
    "duplicates.sample(3).to_dict(orient='records')"
   ]
  },
  {
   "cell_type": "markdown",
   "metadata": {},
   "source": [
    "Lets remove the duplicated data"
   ]
  },
  {
   "cell_type": "code",
   "execution_count": 19,
   "metadata": {
    "id": "uCehuX4ZY75q"
   },
   "outputs": [],
   "source": [
    "deduplicated_data = normalized_data[~normalized_data['desc'].duplicated()]"
   ]
  },
  {
   "cell_type": "code",
   "execution_count": 20,
   "metadata": {},
   "outputs": [
    {
     "data": {
      "text/markdown": [
       "### Duplicates Report\n",
       "\n",
       "- **id**: 0 duplicates (0.00%)\n",
       "- **desc**: 0 duplicates (0.00%)\n"
      ],
      "text/plain": [
       "<IPython.core.display.Markdown object>"
      ]
     },
     "metadata": {},
     "output_type": "display_data"
    }
   ],
   "source": [
    "columns = ['id', 'desc']\n",
    "\n",
    "duplicated_report(deduplicated_data, columns)"
   ]
  },
  {
   "cell_type": "markdown",
   "metadata": {
    "id": "W-vqf7Vb7LSm"
   },
   "source": [
    "#### Noisy text analysis\n",
    "\n",
    "So, after cleaning, doing basic normalization and deduplication on the text and doing some checkings it was possible to see that some samples of the data has at end of the descrioption the text **Read More**. This is can considered a noise to our dataset.\n",
    "\n",
    "There are some patterns that can occurs on this kind of data, we aren't able to determine all of them, but for this initial analysis, lets determine some."
   ]
  },
  {
   "cell_type": "code",
   "execution_count": 21,
   "metadata": {},
   "outputs": [],
   "source": [
    "patterns = ['read more', 'click here', 'continue reading the full article']"
   ]
  },
  {
   "cell_type": "code",
   "execution_count": 22,
   "metadata": {},
   "outputs": [
    {
     "name": "stdout",
     "output_type": "stream",
     "text": [
      "Noisy pattern counts:\n",
      "desc    2286\n",
      "dtype: int64\n"
     ]
    }
   ],
   "source": [
    "denoised_data = remove_noisy_texts(deduplicated_data, patterns=patterns, columns=['desc'], show_count=True)"
   ]
  },
  {
   "cell_type": "markdown",
   "metadata": {
    "id": "Qot8fKe-51I4"
   },
   "source": [
    "By conducting these initial exploratory steps, we will establish a solid foundation for our NLP EDA. This process will enable us to gain a deeper understanding of the dataset's structure, identify any data quality issues, and lay the groundwork for subsequent NLP techniques and analyses."
   ]
  },
  {
   "cell_type": "markdown",
   "metadata": {},
   "source": [
    "### Text Length Analysis 📊\n",
    "\n",
    "We will analyze the length of the text in the 'desc' column to gain insights into the structure and complexity of the company descriptions. This analysis can provide valuable information about the dataset, such as the range of text lengths and potential patterns or outliers. "
   ]
  },
  {
   "cell_type": "markdown",
   "metadata": {},
   "source": [
    "For this project we will use the **en_core_web_md** model for better accuracy and perfomance"
   ]
  },
  {
   "cell_type": "code",
   "execution_count": 23,
   "metadata": {},
   "outputs": [],
   "source": [
    "improved_data_outputfs = '../data/interim/improved_data.csv'"
   ]
  },
  {
   "cell_type": "code",
   "execution_count": 24,
   "metadata": {},
   "outputs": [],
   "source": [
    "if os.path.exists(improved_data_outputfs):\n",
    "    improved_data = pd.read_csv(improved_data_outputfs)\n",
    "else:\n",
    "    improved_data = add_textual_statistics(df = denoised_data, text_column='desc', spacy_model=get_spacy_model())\n",
    "    improved_data.to_csv(improved_data_outputfs, index=False)    "
   ]
  },
  {
   "cell_type": "code",
   "execution_count": 25,
   "metadata": {},
   "outputs": [
    {
     "data": {
      "text/html": [
       "<div>\n",
       "<style scoped>\n",
       "    .dataframe tbody tr th:only-of-type {\n",
       "        vertical-align: middle;\n",
       "    }\n",
       "\n",
       "    .dataframe tbody tr th {\n",
       "        vertical-align: top;\n",
       "    }\n",
       "\n",
       "    .dataframe thead th {\n",
       "        text-align: right;\n",
       "    }\n",
       "</style>\n",
       "<table border=\"1\" class=\"dataframe\">\n",
       "  <thead>\n",
       "    <tr style=\"text-align: right;\">\n",
       "      <th></th>\n",
       "      <th>id</th>\n",
       "      <th>desc</th>\n",
       "      <th>text_length</th>\n",
       "      <th>num_sentences</th>\n",
       "      <th>token_count</th>\n",
       "    </tr>\n",
       "  </thead>\n",
       "  <tbody>\n",
       "    <tr>\n",
       "      <th>224</th>\n",
       "      <td>7fd8f08b-89c1-4f0f-b542-3b22c4516e63</td>\n",
       "      <td>Leap is a marketplace for Distributed Energy R...</td>\n",
       "      <td>481</td>\n",
       "      <td>4</td>\n",
       "      <td>86</td>\n",
       "    </tr>\n",
       "    <tr>\n",
       "      <th>1123</th>\n",
       "      <td>27ab79eb-d90d-4457-905c-6ee583c39f14</td>\n",
       "      <td>PolyAI is a London-based company that develops...</td>\n",
       "      <td>118</td>\n",
       "      <td>1</td>\n",
       "      <td>18</td>\n",
       "    </tr>\n",
       "    <tr>\n",
       "      <th>2105</th>\n",
       "      <td>7f7d2072-a550-4981-9b49-915a9eeca14c</td>\n",
       "      <td>Frequent natural disasters displace families, ...</td>\n",
       "      <td>603</td>\n",
       "      <td>3</td>\n",
       "      <td>94</td>\n",
       "    </tr>\n",
       "    <tr>\n",
       "      <th>1977</th>\n",
       "      <td>73f87a0d-f6c7-4dd9-9ad3-d8104fd0bed1</td>\n",
       "      <td>SafetyCulture is the operational heartbeat of ...</td>\n",
       "      <td>623</td>\n",
       "      <td>4</td>\n",
       "      <td>100</td>\n",
       "    </tr>\n",
       "  </tbody>\n",
       "</table>\n",
       "</div>"
      ],
      "text/plain": [
       "                                        id  \\\n",
       "224   7fd8f08b-89c1-4f0f-b542-3b22c4516e63   \n",
       "1123  27ab79eb-d90d-4457-905c-6ee583c39f14   \n",
       "2105  7f7d2072-a550-4981-9b49-915a9eeca14c   \n",
       "1977  73f87a0d-f6c7-4dd9-9ad3-d8104fd0bed1   \n",
       "\n",
       "                                                   desc  text_length  \\\n",
       "224   Leap is a marketplace for Distributed Energy R...          481   \n",
       "1123  PolyAI is a London-based company that develops...          118   \n",
       "2105  Frequent natural disasters displace families, ...          603   \n",
       "1977  SafetyCulture is the operational heartbeat of ...          623   \n",
       "\n",
       "      num_sentences  token_count  \n",
       "224               4           86  \n",
       "1123              1           18  \n",
       "2105              3           94  \n",
       "1977              4          100  "
      ]
     },
     "execution_count": 25,
     "metadata": {},
     "output_type": "execute_result"
    }
   ],
   "source": [
    "improved_data.sample(4)"
   ]
  },
  {
   "cell_type": "code",
   "execution_count": 26,
   "metadata": {},
   "outputs": [
    {
     "data": {
      "text/html": [
       "<div>\n",
       "<style scoped>\n",
       "    .dataframe tbody tr th:only-of-type {\n",
       "        vertical-align: middle;\n",
       "    }\n",
       "\n",
       "    .dataframe tbody tr th {\n",
       "        vertical-align: top;\n",
       "    }\n",
       "\n",
       "    .dataframe thead th {\n",
       "        text-align: right;\n",
       "    }\n",
       "</style>\n",
       "<table border=\"1\" class=\"dataframe\">\n",
       "  <thead>\n",
       "    <tr style=\"text-align: right;\">\n",
       "      <th></th>\n",
       "      <th>text_length</th>\n",
       "      <th>num_sentences</th>\n",
       "      <th>token_count</th>\n",
       "    </tr>\n",
       "  </thead>\n",
       "  <tbody>\n",
       "    <tr>\n",
       "      <th>count</th>\n",
       "      <td>3452.000000</td>\n",
       "      <td>3452.000000</td>\n",
       "      <td>3452.000000</td>\n",
       "    </tr>\n",
       "    <tr>\n",
       "      <th>mean</th>\n",
       "      <td>520.235805</td>\n",
       "      <td>3.635284</td>\n",
       "      <td>88.123117</td>\n",
       "    </tr>\n",
       "    <tr>\n",
       "      <th>std</th>\n",
       "      <td>375.624485</td>\n",
       "      <td>2.602621</td>\n",
       "      <td>64.931135</td>\n",
       "    </tr>\n",
       "    <tr>\n",
       "      <th>min</th>\n",
       "      <td>11.000000</td>\n",
       "      <td>1.000000</td>\n",
       "      <td>2.000000</td>\n",
       "    </tr>\n",
       "    <tr>\n",
       "      <th>25%</th>\n",
       "      <td>276.000000</td>\n",
       "      <td>2.000000</td>\n",
       "      <td>47.000000</td>\n",
       "    </tr>\n",
       "    <tr>\n",
       "      <th>50%</th>\n",
       "      <td>464.500000</td>\n",
       "      <td>3.000000</td>\n",
       "      <td>78.000000</td>\n",
       "    </tr>\n",
       "    <tr>\n",
       "      <th>75%</th>\n",
       "      <td>678.000000</td>\n",
       "      <td>5.000000</td>\n",
       "      <td>114.000000</td>\n",
       "    </tr>\n",
       "    <tr>\n",
       "      <th>max</th>\n",
       "      <td>5201.000000</td>\n",
       "      <td>42.000000</td>\n",
       "      <td>906.000000</td>\n",
       "    </tr>\n",
       "  </tbody>\n",
       "</table>\n",
       "</div>"
      ],
      "text/plain": [
       "       text_length  num_sentences  token_count\n",
       "count  3452.000000    3452.000000  3452.000000\n",
       "mean    520.235805       3.635284    88.123117\n",
       "std     375.624485       2.602621    64.931135\n",
       "min      11.000000       1.000000     2.000000\n",
       "25%     276.000000       2.000000    47.000000\n",
       "50%     464.500000       3.000000    78.000000\n",
       "75%     678.000000       5.000000   114.000000\n",
       "max    5201.000000      42.000000   906.000000"
      ]
     },
     "execution_count": 26,
     "metadata": {},
     "output_type": "execute_result"
    }
   ],
   "source": [
    "improved_data.describe()"
   ]
  },
  {
   "cell_type": "markdown",
   "metadata": {},
   "source": [
    "The descriptive statistics of the ```text_length, num_sentences, and token_count``` columns provide valuable insights about the textual data. The **average text length is around 520 characters***, with a **minimum of 11 and a maximum of 5201**, indicating a **wide range of text lengths**. The number of sentences ranges from **1 to 42**, with an average of approximately 3.64. The token count varies between 2 and 906 tokens, with an average of 88.12. These statistics reveal the diversity and variability present in the data, highlighting the need to consider different text lengths, sentence structures, and token counts when analyzing and processing the text.\n",
    "\n",
    "Below we can observe those informations in a macro way, using a distribution plot."
   ]
  },
  {
   "cell_type": "code",
   "execution_count": 27,
   "metadata": {},
   "outputs": [],
   "source": [
    "from src.preprocessing.reports import plot_distribution"
   ]
  },
  {
   "cell_type": "code",
   "execution_count": 28,
   "metadata": {},
   "outputs": [
    {
     "data": {
      "image/png": "[encoded data removed]",
      "text/plain": [
       "<Figure size 576x864 with 3 Axes>"
      ]
     },
     "metadata": {
      "needs_background": "light"
     },
     "output_type": "display_data"
    }
   ],
   "source": [
    "columns_to_plot = ['text_length', 'num_sentences', 'token_count']\n",
    "    \n",
    "plot_distribution(df=improved_data, columns=columns_to_plot)"
   ]
  },
  {
   "cell_type": "markdown",
   "metadata": {},
   "source": [
    "The above plots shows that all 3 count distributions are not normal and has only upper bound outliers"
   ]
  },
  {
   "cell_type": "markdown",
   "metadata": {},
   "source": [
    "We can start analyizin the outliers of these data to check what kind of text are present"
   ]
  },
  {
   "cell_type": "code",
   "execution_count": 29,
   "metadata": {},
   "outputs": [],
   "source": [
    "from src.analysis.text import classify_outliers"
   ]
  },
  {
   "cell_type": "code",
   "execution_count": 30,
   "metadata": {},
   "outputs": [],
   "source": [
    "featured_data = classify_outliers(df=improved_data, columns=columns_to_plot)"
   ]
  },
  {
   "cell_type": "code",
   "execution_count": 31,
   "metadata": {},
   "outputs": [
    {
     "data": {
      "text/html": [
       "<div>\n",
       "<style scoped>\n",
       "    .dataframe tbody tr th:only-of-type {\n",
       "        vertical-align: middle;\n",
       "    }\n",
       "\n",
       "    .dataframe tbody tr th {\n",
       "        vertical-align: top;\n",
       "    }\n",
       "\n",
       "    .dataframe thead th {\n",
       "        text-align: right;\n",
       "    }\n",
       "</style>\n",
       "<table border=\"1\" class=\"dataframe\">\n",
       "  <thead>\n",
       "    <tr style=\"text-align: right;\">\n",
       "      <th></th>\n",
       "      <th>id</th>\n",
       "      <th>desc</th>\n",
       "      <th>text_length</th>\n",
       "      <th>num_sentences</th>\n",
       "      <th>token_count</th>\n",
       "      <th>text_length_outlier_bound</th>\n",
       "      <th>num_sentences_outlier_bound</th>\n",
       "      <th>token_count_outlier_bound</th>\n",
       "    </tr>\n",
       "  </thead>\n",
       "  <tbody>\n",
       "    <tr>\n",
       "      <th>1725</th>\n",
       "      <td>5ebc0c77-e8e9-445c-ab6e-a4ac907c5c0d</td>\n",
       "      <td>Yes Health is an all-mobile diabetes preventio...</td>\n",
       "      <td>571</td>\n",
       "      <td>5</td>\n",
       "      <td>102</td>\n",
       "      <td>no_outlier</td>\n",
       "      <td>no_outlier</td>\n",
       "      <td>no_outlier</td>\n",
       "    </tr>\n",
       "    <tr>\n",
       "      <th>324</th>\n",
       "      <td>b6e43f14-67d3-413c-8599-8c586d9d022d</td>\n",
       "      <td>Pongo empowers entrepreneurs to launch, operat...</td>\n",
       "      <td>103</td>\n",
       "      <td>1</td>\n",
       "      <td>20</td>\n",
       "      <td>no_outlier</td>\n",
       "      <td>no_outlier</td>\n",
       "      <td>no_outlier</td>\n",
       "    </tr>\n",
       "    <tr>\n",
       "      <th>399</th>\n",
       "      <td>eaa94714-aa91-49ee-bb0a-a1602d6f5290</td>\n",
       "      <td>Babyscripts three-tiered approach to virtual m...</td>\n",
       "      <td>1268</td>\n",
       "      <td>6</td>\n",
       "      <td>217</td>\n",
       "      <td>no_outlier</td>\n",
       "      <td>no_outlier</td>\n",
       "      <td>upper_bound</td>\n",
       "    </tr>\n",
       "  </tbody>\n",
       "</table>\n",
       "</div>"
      ],
      "text/plain": [
       "                                        id  \\\n",
       "1725  5ebc0c77-e8e9-445c-ab6e-a4ac907c5c0d   \n",
       "324   b6e43f14-67d3-413c-8599-8c586d9d022d   \n",
       "399   eaa94714-aa91-49ee-bb0a-a1602d6f5290   \n",
       "\n",
       "                                                   desc  text_length  \\\n",
       "1725  Yes Health is an all-mobile diabetes preventio...          571   \n",
       "324   Pongo empowers entrepreneurs to launch, operat...          103   \n",
       "399   Babyscripts three-tiered approach to virtual m...         1268   \n",
       "\n",
       "      num_sentences  token_count text_length_outlier_bound  \\\n",
       "1725              5          102                no_outlier   \n",
       "324               1           20                no_outlier   \n",
       "399               6          217                no_outlier   \n",
       "\n",
       "     num_sentences_outlier_bound token_count_outlier_bound  \n",
       "1725                  no_outlier                no_outlier  \n",
       "324                   no_outlier                no_outlier  \n",
       "399                   no_outlier               upper_bound  "
      ]
     },
     "execution_count": 31,
     "metadata": {},
     "output_type": "execute_result"
    }
   ],
   "source": [
    "featured_data.sample(3)"
   ]
  },
  {
   "cell_type": "code",
   "execution_count": 32,
   "metadata": {},
   "outputs": [
    {
     "data": {
      "text/plain": [
       "no_outlier     3328\n",
       "upper_bound     124\n",
       "Name: token_count_outlier_bound, dtype: int64"
      ]
     },
     "execution_count": 32,
     "metadata": {},
     "output_type": "execute_result"
    }
   ],
   "source": [
    "featured_data['token_count_outlier_bound'].value_counts()"
   ]
  },
  {
   "cell_type": "code",
   "execution_count": 33,
   "metadata": {},
   "outputs": [
    {
     "data": {
      "text/plain": [
       "no_outlier     3370\n",
       "upper_bound      82\n",
       "Name: num_sentences_outlier_bound, dtype: int64"
      ]
     },
     "execution_count": 33,
     "metadata": {},
     "output_type": "execute_result"
    }
   ],
   "source": [
    "featured_data['num_sentences_outlier_bound'].value_counts()"
   ]
  },
  {
   "cell_type": "code",
   "execution_count": 34,
   "metadata": {},
   "outputs": [
    {
     "data": {
      "text/plain": [
       "no_outlier     3339\n",
       "upper_bound     113\n",
       "Name: text_length_outlier_bound, dtype: int64"
      ]
     },
     "execution_count": 34,
     "metadata": {},
     "output_type": "execute_result"
    }
   ],
   "source": [
    "featured_data['text_length_outlier_bound'].value_counts()"
   ]
  },
  {
   "cell_type": "markdown",
   "metadata": {},
   "source": [
    "#### Most frequent tokens\n",
    "\n",
    "The analysis step of identifying the most frequent words is crucial in understanding the underlying patterns and themes within the dataset. By identifying the most frequent words, we gain valuable insights into the common topics, trends, and key features present in the data. This information helps in better understanding the nature of the dataset and provides a foundation for subsequent analysis and decision-making.\n",
    "\n",
    "Lets analyse the most frequent tokens using spacy on our dataset"
   ]
  },
  {
   "cell_type": "code",
   "execution_count": 35,
   "metadata": {},
   "outputs": [],
   "source": [
    "from src.analysis.text import calculate_most_frequent_tokens"
   ]
  },
  {
   "cell_type": "code",
   "execution_count": 36,
   "metadata": {},
   "outputs": [],
   "source": [
    "min_spacy_model = get_spacy_model(new_model = True, disable=['parser', 'tagger','ner'])"
   ]
  },
  {
   "cell_type": "code",
   "execution_count": 37,
   "metadata": {},
   "outputs": [],
   "source": [
    "min_spacy_model.max_length = int(2e6)"
   ]
  },
  {
   "cell_type": "code",
   "execution_count": 38,
   "metadata": {
    "colab": {
     "base_uri": "https://localhost:8080/"
    },
    "id": "-iDmfIg-9Qn2",
    "outputId": "9ae9567e-1128-4094-99bf-3e0509d62f17"
   },
   "outputs": [
    {
     "name": "stderr",
     "output_type": "stream",
     "text": [
      "C:\\Users\\mathe\\anaconda3\\lib\\site-packages\\spacy\\pipeline\\lemmatizer.py:211: UserWarning: [W108] The rule-based lemmatizer did not find POS annotation for one or more tokens. Check that your pipeline includes components that assign token.pos, typically 'tagger'+'attribute_ruler' or 'morphologizer'.\n",
      "  warnings.warn(Warnings.W108)\n",
      "100%|██████████████████████████████████████████████████████████████████████████████████████████████████████████████████████████████| 304201/304201 [00:00<00:00, 1130769.31it/s]\n"
     ]
    }
   ],
   "source": [
    "frequent_words = calculate_most_frequent_tokens(featured_data['desc'].tolist(), model=min_spacy_model)"
   ]
  },
  {
   "cell_type": "code",
   "execution_count": 39,
   "metadata": {},
   "outputs": [],
   "source": [
    "import seaborn as sns\n",
    "import matplotlib.pyplot as plt\n",
    "from typing import List, Tuple\n",
    "\n",
    "def plot_frequent_words(frequent_words: List[Tuple[str, int]]):\n",
    "    \"\"\"\n",
    "    Plot a horizontal bar plot of the first 15 most frequent words.\n",
    "    \n",
    "    Args:\n",
    "        frequent_words (List[Tuple[str, int]]): List of tuples containing the word and its frequency.\n",
    "    \"\"\"\n",
    "    # Select the top 15 most frequent words\n",
    "    top_words = frequent_words[:15]\n",
    "    \n",
    "    # Extract the words and frequencies into separate lists\n",
    "    words = [word for word, _ in top_words]\n",
    "    frequencies = [freq for _, freq in top_words]\n",
    "    \n",
    "    # Create a horizontal bar plot\n",
    "    sns.set(style=\"whitegrid\")\n",
    "    plt.figure(figsize=(10, 6))\n",
    "    sns.barplot(x=frequencies, y=words, palette=\"viridis\")\n",
    "    plt.xlabel(\"Frequency\")\n",
    "    plt.ylabel(\"Words\")\n",
    "    plt.title(\"Top 15 Most Frequent Words\")\n",
    "    plt.show()"
   ]
  },
  {
   "cell_type": "code",
   "execution_count": 40,
   "metadata": {},
   "outputs": [
    {
     "data": {
      "text/plain": [
       "[('platform', 1734),\n",
       " ('data', 1729),\n",
       " ('company', 1607),\n",
       " ('technology', 943),\n",
       " ('based', 935),\n",
       " ('AI', 841),\n",
       " ('health', 837),\n",
       " ('solutions', 736),\n",
       " ('services', 723),\n",
       " ('healthcare', 719)]"
      ]
     },
     "execution_count": 40,
     "metadata": {},
     "output_type": "execute_result"
    }
   ],
   "source": [
    "frequent_words[:10]"
   ]
  },
  {
   "cell_type": "markdown",
   "metadata": {},
   "source": [
    "Below we can see the most frequent words on our dataset"
   ]
  },
  {
   "cell_type": "code",
   "execution_count": 41,
   "metadata": {},
   "outputs": [
    {
     "data": {
      "image/png": "[encoded data removed]",
      "text/plain": [
       "<Figure size 720x432 with 1 Axes>"
      ]
     },
     "metadata": {},
     "output_type": "display_data"
    }
   ],
   "source": [
    "plot_frequent_words(frequent_words[:15])"
   ]
  },
  {
   "cell_type": "markdown",
   "metadata": {},
   "source": [
    "The analysis of the most frequent words provides valuable insights into the dataset and sheds light on the key themes and topics present within the data. The top 10 most frequent words, namely 'platform', 'data', 'company', 'technology', 'based', 'AI', 'health', 'solutions', 'services', and 'healthcare', offer a glimpse into the dominant subjects and areas of focus.\n",
    "\n",
    "The frequency of these words indicates their significance and prevalence within the dataset. 'Platform' and 'data' emerge as prominent terms, highlighting the importance of data-driven platforms in various industries. 'Company' underscores the focus on organizations and their operations. 'Technology' and 'AI' reflect the growing influence of advanced technologies, particularly artificial intelligence, in driving innovation and transformation.\n",
    "\n",
    "The presence of terms like 'health', 'solutions', 'services', and 'healthcare' suggests a strong emphasis on the healthcare sector. This indicates a potential focus on leveraging technology and data-driven solutions to improve healthcare outcomes and services."
   ]
  },
  {
   "cell_type": "code",
   "execution_count": 42,
   "metadata": {},
   "outputs": [
    {
     "data": {
      "text/plain": [
       "[('software', 694),\n",
       " ('care', 691),\n",
       " ('founded', 671),\n",
       " ('provides', 657),\n",
       " ('management', 646),\n",
       " ('time', 614),\n",
       " ('companies', 588),\n",
       " ('digital', 560),\n",
       " ('customers', 541),\n",
       " ('business', 531)]"
      ]
     },
     "execution_count": 42,
     "metadata": {},
     "output_type": "execute_result"
    }
   ],
   "source": [
    "frequent_words[10:20]"
   ]
  },
  {
   "cell_type": "markdown",
   "metadata": {},
   "source": [
    "## Company Names 🔍"
   ]
  },
  {
   "cell_type": "markdown",
   "metadata": {},
   "source": [
    "In the analysis of company descriptions, one crucial aspect is the extraction of the company names from the text. The name of a company serves as its unique identifier and plays a fundamental role in various business-related tasks. Extracting company names from text allows us to gain insights into the presence and prominence of different companies in the analyzed dataset. By identifying and extracting company names, we can perform more targeted analyses, such as tracking the market presence of specific companies\n",
    "\n",
    "\n",
    "We will detects company names from the given dataframe's text column using spaCy's entity type, PoS, and dependency information."
   ]
  },
  {
   "cell_type": "code",
   "execution_count": 103,
   "metadata": {},
   "outputs": [],
   "source": [
    "from src.analysis.companies import detect_company_name"
   ]
  },
  {
   "cell_type": "code",
   "execution_count": 112,
   "metadata": {},
   "outputs": [
    {
     "name": "stderr",
     "output_type": "stream",
     "text": [
      "100%|███████████████████████████████████████████████████████████████████████████████████████████████████████████████████████████████████████| 3452/3452 [01:01<00:00, 56.34it/s]\n"
     ]
    }
   ],
   "source": [
    "final_data = detect_company_name(df=featured_data, text_column='desc', nlp_model=get_spacy_model())"
   ]
  },
  {
   "cell_type": "code",
   "execution_count": 116,
   "metadata": {},
   "outputs": [
    {
     "data": {
      "text/html": [
       "<div>\n",
       "<style scoped>\n",
       "    .dataframe tbody tr th:only-of-type {\n",
       "        vertical-align: middle;\n",
       "    }\n",
       "\n",
       "    .dataframe tbody tr th {\n",
       "        vertical-align: top;\n",
       "    }\n",
       "\n",
       "    .dataframe thead th {\n",
       "        text-align: right;\n",
       "    }\n",
       "</style>\n",
       "<table border=\"1\" class=\"dataframe\">\n",
       "  <thead>\n",
       "    <tr style=\"text-align: right;\">\n",
       "      <th></th>\n",
       "      <th>id</th>\n",
       "      <th>desc</th>\n",
       "      <th>text_length</th>\n",
       "      <th>num_sentences</th>\n",
       "      <th>token_count</th>\n",
       "      <th>text_length_outlier_bound</th>\n",
       "      <th>num_sentences_outlier_bound</th>\n",
       "      <th>token_count_outlier_bound</th>\n",
       "      <th>name</th>\n",
       "    </tr>\n",
       "  </thead>\n",
       "  <tbody>\n",
       "    <tr>\n",
       "      <th>275</th>\n",
       "      <td>9be1466d-354b-40b3-a350-0beddd1167a5</td>\n",
       "      <td>Valimail is the global leader in zero-trust em...</td>\n",
       "      <td>566</td>\n",
       "      <td>3</td>\n",
       "      <td>100</td>\n",
       "      <td>no_outlier</td>\n",
       "      <td>no_outlier</td>\n",
       "      <td>no_outlier</td>\n",
       "      <td>Valimail</td>\n",
       "    </tr>\n",
       "    <tr>\n",
       "      <th>587</th>\n",
       "      <td>9894ab60-31e4-4975-88fb-8e0d29413baf</td>\n",
       "      <td>Valo Health, LLC (Valo) is a technology compan...</td>\n",
       "      <td>668</td>\n",
       "      <td>3</td>\n",
       "      <td>116</td>\n",
       "      <td>no_outlier</td>\n",
       "      <td>no_outlier</td>\n",
       "      <td>no_outlier</td>\n",
       "      <td>Valo Health</td>\n",
       "    </tr>\n",
       "    <tr>\n",
       "      <th>2480</th>\n",
       "      <td>a2caa004-5387-4336-875a-69145436f12c</td>\n",
       "      <td>Certara is the global leader in biosimulation....</td>\n",
       "      <td>542</td>\n",
       "      <td>5</td>\n",
       "      <td>82</td>\n",
       "      <td>no_outlier</td>\n",
       "      <td>no_outlier</td>\n",
       "      <td>no_outlier</td>\n",
       "      <td>Certara</td>\n",
       "    </tr>\n",
       "    <tr>\n",
       "      <th>983</th>\n",
       "      <td>1c1424d9-02a0-47ff-ab90-68b9e6614e4b</td>\n",
       "      <td>LiveApp is a mobile marketing platform that sa...</td>\n",
       "      <td>345</td>\n",
       "      <td>2</td>\n",
       "      <td>57</td>\n",
       "      <td>no_outlier</td>\n",
       "      <td>no_outlier</td>\n",
       "      <td>no_outlier</td>\n",
       "      <td>LiveApp</td>\n",
       "    </tr>\n",
       "    <tr>\n",
       "      <th>2211</th>\n",
       "      <td>88d6d699-1d97-4de1-9bfc-3a86430f2554</td>\n",
       "      <td>L1ght is an algorithm-driven innovator, design...</td>\n",
       "      <td>167</td>\n",
       "      <td>2</td>\n",
       "      <td>33</td>\n",
       "      <td>no_outlier</td>\n",
       "      <td>no_outlier</td>\n",
       "      <td>no_outlier</td>\n",
       "      <td>We</td>\n",
       "    </tr>\n",
       "    <tr>\n",
       "      <th>1557</th>\n",
       "      <td>4f85bbc4-c0f9-4adc-9fc3-cb749d32ea8a</td>\n",
       "      <td>Sendinblue is a developer of a cloud-based dig...</td>\n",
       "      <td>692</td>\n",
       "      <td>4</td>\n",
       "      <td>117</td>\n",
       "      <td>no_outlier</td>\n",
       "      <td>no_outlier</td>\n",
       "      <td>no_outlier</td>\n",
       "      <td>Sendinblue</td>\n",
       "    </tr>\n",
       "    <tr>\n",
       "      <th>837</th>\n",
       "      <td>0e9d90a9-6c51-4731-b8d8-71fbb929c92f</td>\n",
       "      <td>Colgate-Palmolive Company (Colgate) is a consu...</td>\n",
       "      <td>995</td>\n",
       "      <td>7</td>\n",
       "      <td>174</td>\n",
       "      <td>no_outlier</td>\n",
       "      <td>no_outlier</td>\n",
       "      <td>no_outlier</td>\n",
       "      <td>Colgate Company</td>\n",
       "    </tr>\n",
       "    <tr>\n",
       "      <th>2248</th>\n",
       "      <td>8ccca9dc-8466-4ada-891d-cf2225d9a9ac</td>\n",
       "      <td>Curai is a virtual care company that uses arti...</td>\n",
       "      <td>609</td>\n",
       "      <td>4</td>\n",
       "      <td>107</td>\n",
       "      <td>no_outlier</td>\n",
       "      <td>no_outlier</td>\n",
       "      <td>no_outlier</td>\n",
       "      <td>Curai</td>\n",
       "    </tr>\n",
       "    <tr>\n",
       "      <th>1095</th>\n",
       "      <td>25209e0e-dbb8-4b57-a7dd-c32189fdfd7b</td>\n",
       "      <td>Qubitekk is a privately-held, California-locat...</td>\n",
       "      <td>337</td>\n",
       "      <td>2</td>\n",
       "      <td>55</td>\n",
       "      <td>no_outlier</td>\n",
       "      <td>no_outlier</td>\n",
       "      <td>no_outlier</td>\n",
       "      <td>Qubitekk</td>\n",
       "    </tr>\n",
       "    <tr>\n",
       "      <th>1375</th>\n",
       "      <td>3f6010a8-a28a-4d78-8002-196229377387</td>\n",
       "      <td>contextere is an industrial software company f...</td>\n",
       "      <td>359</td>\n",
       "      <td>4</td>\n",
       "      <td>52</td>\n",
       "      <td>no_outlier</td>\n",
       "      <td>no_outlier</td>\n",
       "      <td>no_outlier</td>\n",
       "      <td>Our</td>\n",
       "    </tr>\n",
       "  </tbody>\n",
       "</table>\n",
       "</div>"
      ],
      "text/plain": [
       "                                        id  \\\n",
       "275   9be1466d-354b-40b3-a350-0beddd1167a5   \n",
       "587   9894ab60-31e4-4975-88fb-8e0d29413baf   \n",
       "2480  a2caa004-5387-4336-875a-69145436f12c   \n",
       "983   1c1424d9-02a0-47ff-ab90-68b9e6614e4b   \n",
       "2211  88d6d699-1d97-4de1-9bfc-3a86430f2554   \n",
       "1557  4f85bbc4-c0f9-4adc-9fc3-cb749d32ea8a   \n",
       "837   0e9d90a9-6c51-4731-b8d8-71fbb929c92f   \n",
       "2248  8ccca9dc-8466-4ada-891d-cf2225d9a9ac   \n",
       "1095  25209e0e-dbb8-4b57-a7dd-c32189fdfd7b   \n",
       "1375  3f6010a8-a28a-4d78-8002-196229377387   \n",
       "\n",
       "                                                   desc  text_length  \\\n",
       "275   Valimail is the global leader in zero-trust em...          566   \n",
       "587   Valo Health, LLC (Valo) is a technology compan...          668   \n",
       "2480  Certara is the global leader in biosimulation....          542   \n",
       "983   LiveApp is a mobile marketing platform that sa...          345   \n",
       "2211  L1ght is an algorithm-driven innovator, design...          167   \n",
       "1557  Sendinblue is a developer of a cloud-based dig...          692   \n",
       "837   Colgate-Palmolive Company (Colgate) is a consu...          995   \n",
       "2248  Curai is a virtual care company that uses arti...          609   \n",
       "1095  Qubitekk is a privately-held, California-locat...          337   \n",
       "1375  contextere is an industrial software company f...          359   \n",
       "\n",
       "      num_sentences  token_count text_length_outlier_bound  \\\n",
       "275               3          100                no_outlier   \n",
       "587               3          116                no_outlier   \n",
       "2480              5           82                no_outlier   \n",
       "983               2           57                no_outlier   \n",
       "2211              2           33                no_outlier   \n",
       "1557              4          117                no_outlier   \n",
       "837               7          174                no_outlier   \n",
       "2248              4          107                no_outlier   \n",
       "1095              2           55                no_outlier   \n",
       "1375              4           52                no_outlier   \n",
       "\n",
       "     num_sentences_outlier_bound token_count_outlier_bound             name  \n",
       "275                   no_outlier                no_outlier         Valimail  \n",
       "587                   no_outlier                no_outlier      Valo Health  \n",
       "2480                  no_outlier                no_outlier          Certara  \n",
       "983                   no_outlier                no_outlier          LiveApp  \n",
       "2211                  no_outlier                no_outlier              We   \n",
       "1557                  no_outlier                no_outlier      Sendinblue   \n",
       "837                   no_outlier                no_outlier  Colgate Company  \n",
       "2248                  no_outlier                no_outlier            Curai  \n",
       "1095                  no_outlier                no_outlier        Qubitekk   \n",
       "1375                  no_outlier                no_outlier             Our   "
      ]
     },
     "execution_count": 116,
     "metadata": {},
     "output_type": "execute_result"
    }
   ],
   "source": [
    "final_data.sample(10)"
   ]
  },
  {
   "cell_type": "markdown",
   "metadata": {},
   "source": [
    "Analyzing the output we can see thats the algorithm can detect in most of the cases the name of the company, but it fails for others, mainly when the spacy algorithm fails to detect and the regex fallback solution comes in."
   ]
  },
  {
   "cell_type": "code",
   "execution_count": 86,
   "metadata": {},
   "outputs": [
    {
     "data": {
      "text/plain": [
       "'Suvodas sole focus is to offer the industrys leading SaaS solution for randomization and trial supply management. Suvodas Interactive Response Technology (IRT/IWRS) system combines the flexibility of a custom solution with the speed of a configurable platform, offering 4-week deployment, reimagined reporting, and easy integration.'"
      ]
     },
     "execution_count": 86,
     "metadata": {},
     "output_type": "execute_result"
    }
   ],
   "source": [
    "final_data.iloc[53].desc"
   ]
  },
  {
   "cell_type": "markdown",
   "metadata": {},
   "source": [
    "## Modeling\n",
    "\n",
    "In the next notebook we will work on modeling."
   ]
  },
  {
   "cell_type": "code",
   "execution_count": 118,
   "metadata": {},
   "outputs": [],
   "source": [
    "final_data.to_csv(os.path.join(DATA_BASE_PATH, 'curated', 'featured.csv'), index=False)"
   ]
  }
 ],
 "metadata": {
  "colab": {
   "provenance": []
  },
  "kernelspec": {
   "display_name": "Python 3",
   "language": "python",
   "name": "python3"
  },
  "language_info": {
   "codemirror_mode": {
    "name": "ipython",
    "version": 3
   },
   "file_extension": ".py",
   "mimetype": "text/x-python",
   "name": "python",
   "nbconvert_exporter": "python",
   "pygments_lexer": "ipython3",
   "version": "3.8.3"
  }
 },
 "nbformat": 4,
 "nbformat_minor": 4
}
