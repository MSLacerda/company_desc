{
 "cells": [
  {
   "cell_type": "code",
   "execution_count": 1,
   "metadata": {},
   "outputs": [
    {
     "name": "stderr",
     "output_type": "stream",
     "text": [
      "C:\\Users\\mathe\\AppData\\Roaming\\Python\\Python38\\site-packages\\pandas\\core\\computation\\expressions.py:20: UserWarning: Pandas requires version '2.7.3' or newer of 'numexpr' (version '2.7.1' currently installed).\n",
      "  from pandas.core.computation.check import NUMEXPR_INSTALLED\n"
     ]
    }
   ],
   "source": [
    "import pandas as pd\n",
    "import nltk\n",
    "import spacy\n",
    "import sys\n",
    "import os"
   ]
  },
  {
   "cell_type": "code",
   "execution_count": 2,
   "metadata": {},
   "outputs": [],
   "source": [
    "%load_ext autoreload\n",
    "%autoreload 2"
   ]
  },
  {
   "cell_type": "code",
   "execution_count": null,
   "metadata": {},
   "outputs": [],
   "source": [
    "PROJECT_BASE_PATH = 'C:\\\\projects\\\\a3_test'\n",
    "DATA_BASE_PATH = os.path.join(PROJECT_BASE_PATH, 'data')\n",
    "SPACY_MODEL = 'en_core_web_md'\n",
    "\n",
    "sys.path.append(PROJECT_BASE_PATH)"
   ]
  },
  {
   "cell_type": "code",
   "execution_count": null,
   "metadata": {},
   "outputs": [],
   "source": [
    "import logging  # Setting up the loggings to monitor gensim\n",
    "logging.basicConfig(format=\"%(levelname)s - %(asctime)s: %(message)s\", datefmt= '%H:%M:%S', level=logging.INFO)"
   ]
  },
  {
   "cell_type": "code",
   "execution_count": null,
   "metadata": {},
   "outputs": [],
   "source": [
    "## Defining our custom functions\n",
    "\n",
    "from src.preprocessing.text import normalize_text, remove_noisy_texts, add_textual_statistics\n",
    "from src.preprocessing.reports import duplicated_report, missing_values_report\n",
    "from src.analysis.companies import detect_company_name\n",
    "from src.utils import printmd\n",
    "\n",
    "from src.modeling.cluster import KPipeline\n",
    "from sklearn.decomposition import PCA\n",
    "from sklearn.feature_extraction.text import TfidfVectorizer"
   ]
  },
  {
   "cell_type": "markdown",
   "metadata": {},
   "source": [
    "## Modeling 🧠💡📊\n",
    "\n",
    "In this topic, we will leverage SciKit Learn to analyze our corpus using clusterization. By employing cluster analysis, we can uncover valuable insights regarding the composition of clusters and effectively reduce the dimensionality of the data. PyCaret provides a comprehensive set of tools and techniques that facilitate the exploration, evaluation, and interpretation of clusters, enabling us to gain a deeper understanding of our dataset. Through this approach, we aim to extract meaningful patterns and structures within the data, which can inform decision-making processes and unlock hidden insights.\n",
    "\n",
    "For our experiment we will try 1:\n",
    "   * KMeans Clusterization with word2vec"
   ]
  },
  {
   "cell_type": "markdown",
   "metadata": {},
   "source": [
    "## Clusterization by KMeans"
   ]
  },
  {
   "cell_type": "code",
   "execution_count": null,
   "metadata": {},
   "outputs": [],
   "source": [
    "data = pd.read_csv(os.path.join(DATA_BASE_PATH, 'curated', 'featured.csv'))"
   ]
  },
  {
   "cell_type": "code",
   "execution_count": null,
   "metadata": {},
   "outputs": [],
   "source": [
    "data.sample(3)"
   ]
  },
  {
   "cell_type": "markdown",
   "metadata": {},
   "source": [
    "### Text Preprocessing\n",
    "\n",
    "First lets preprocess our text, removing stopwords, and lemmatizing our text to avoid bias and reduce the data complexity."
   ]
  },
  {
   "cell_type": "code",
   "execution_count": null,
   "metadata": {},
   "outputs": [],
   "source": [
    "pipeline = KPipeline()"
   ]
  },
  {
   "cell_type": "code",
   "execution_count": null,
   "metadata": {},
   "outputs": [],
   "source": [
    "preprocessed_text = pipeline.preprocess_text(data['desc'])"
   ]
  },
  {
   "cell_type": "code",
   "execution_count": null,
   "metadata": {},
   "outputs": [],
   "source": [
    "preprocessed_text[0]"
   ]
  },
  {
   "cell_type": "code",
   "execution_count": null,
   "metadata": {},
   "outputs": [],
   "source": [
    "from wordcloud import WordCloud"
   ]
  },
  {
   "cell_type": "markdown",
   "metadata": {},
   "source": [
    "Lets show a wordcloud to understand better which words are more present on the preprocessed text"
   ]
  },
  {
   "cell_type": "code",
   "execution_count": null,
   "metadata": {},
   "outputs": [],
   "source": [
    "# Generate a word cloud image\n",
    "wordcloud = WordCloud(\n",
    "    width=1200, height=700\n",
    ").generate(' '.join(preprocessed_text))\n",
    "\n",
    "# Display the generated image:\n",
    "# the matplotlib way:\n",
    "import matplotlib.pyplot as plt\n",
    "plt.imshow(wordcloud, interpolation='bilinear')\n",
    "plt.axis(\"off\")"
   ]
  },
  {
   "cell_type": "markdown",
   "metadata": {},
   "source": [
    "Now lets vectorize our preprocessed to text to input in a model, instead of using populars approaches like TFIDF and BOW lets use Word2Vec, thats can gather semantic correlations between the words."
   ]
  },
  {
   "cell_type": "markdown",
   "metadata": {},
   "source": [
    "### Word2Vec"
   ]
  },
  {
   "cell_type": "code",
   "execution_count": null,
   "metadata": {},
   "outputs": [],
   "source": [
    "from gensim.models import Word2Vec\n",
    "from gensim.test.utils import common_texts\n",
    "from gensim.models import KeyedVectors\n",
    "from gensim.models.phrases import Phrases, Phraser\n",
    "import time"
   ]
  },
  {
   "cell_type": "markdown",
   "metadata": {},
   "source": [
    "Lets prepare our data for Word2Vec model"
   ]
  },
  {
   "cell_type": "markdown",
   "metadata": {},
   "source": [
    "### Bigram data\n",
    "\n",
    "The following process helps capture multi-word expressions and can improve the quality of subsequent analyses, such as topic modeling or word embeddings. In this case we will use it to automatically capture most commom phrases from sentences, they also form a bigram."
   ]
  },
  {
   "cell_type": "code",
   "execution_count": null,
   "metadata": {},
   "outputs": [],
   "source": [
    "sent = [row.split() for row in preprocessed_text]\n",
    "phrases = Phrases(sent, min_count=30, progress_per=10000)\n",
    "bigram = Phraser(phrases)\n",
    "sentences = bigram[sent]"
   ]
  },
  {
   "cell_type": "code",
   "execution_count": 18,
   "metadata": {},
   "outputs": [
    {
     "data": {
      "text/plain": [
       "<gensim.interfaces.TransformedCorpus at 0x1fd7e341370>"
      ]
     },
     "execution_count": 18,
     "metadata": {},
     "output_type": "execute_result"
    }
   ],
   "source": [
    "sentences"
   ]
  },
  {
   "cell_type": "code",
   "execution_count": null,
   "metadata": {},
   "outputs": [],
   "source": [
    "from collections import Counter\n",
    "\n",
    "# Flatten the list of lists into a single list\n",
    "all_words = [word for sublist in sentences for word in sublist]\n",
    "\n",
    "# Count the frequency of each word\n",
    "word_counts = Counter(all_words)\n",
    "\n",
    "# Sort the word counts in descending order\n",
    "sorted_counts = sorted(word_counts.items(), key=lambda x: x[1], reverse=True)"
   ]
  },
  {
   "cell_type": "code",
   "execution_count": null,
   "metadata": {},
   "outputs": [],
   "source": [
    "sorted_counts[:10]"
   ]
  },
  {
   "cell_type": "code",
   "execution_count": null,
   "metadata": {},
   "outputs": [],
   "source": [
    "sorted_counts[-10:]"
   ]
  },
  {
   "cell_type": "markdown",
   "metadata": {},
   "source": [
    "Below we can check the most commons bigrams"
   ]
  },
  {
   "cell_type": "code",
   "execution_count": null,
   "metadata": {},
   "outputs": [],
   "source": [
    "list(phrases.find_phrases(sent).items())[:10]"
   ]
  },
  {
   "cell_type": "markdown",
   "metadata": {},
   "source": [
    "### Build the model"
   ]
  },
  {
   "cell_type": "code",
   "execution_count": 51,
   "metadata": {},
   "outputs": [
    {
     "name": "stderr",
     "output_type": "stream",
     "text": [
      "INFO - 23:01:45: Word2Vec lifecycle event {'params': 'Word2Vec<vocab=0, vector_size=50, alpha=0.025>', 'datetime': '2023-05-21T23:01:45.422510', 'gensim': '4.3.1', 'python': '3.8.3 (default, Jul  2 2020, 17:30:36) [MSC v.1916 64 bit (AMD64)]', 'platform': 'Windows-10-10.0.19041-SP0', 'event': 'created'}\n"
     ]
    }
   ],
   "source": [
    "w2v_model = Word2Vec(min_count=30,\n",
    "                     window=10,\n",
    "                     vector_size=50,\n",
    "                     workers=4)"
   ]
  },
  {
   "cell_type": "markdown",
   "metadata": {},
   "source": [
    "#### Vocab"
   ]
  },
  {
   "cell_type": "code",
   "execution_count": 52,
   "metadata": {},
   "outputs": [
    {
     "name": "stderr",
     "output_type": "stream",
     "text": [
      "INFO - 23:01:47: collecting all words and their counts\n",
      "INFO - 23:01:47: PROGRESS: at sentence #0, processed 0 words, keeping 0 word types\n",
      "INFO - 23:01:47: collected 20235 word types from a corpus of 205100 raw words and 3452 sentences\n",
      "INFO - 23:01:47: Creating a fresh vocabulary\n",
      "INFO - 23:01:47: Word2Vec lifecycle event {'msg': 'effective_min_count=30 retains 1000 unique words (4.94% of original 20235, drops 19235)', 'datetime': '2023-05-21T23:01:47.563799', 'gensim': '4.3.1', 'python': '3.8.3 (default, Jul  2 2020, 17:30:36) [MSC v.1916 64 bit (AMD64)]', 'platform': 'Windows-10-10.0.19041-SP0', 'event': 'prepare_vocab'}\n",
      "INFO - 23:01:47: Word2Vec lifecycle event {'msg': 'effective_min_count=30 leaves 150259 word corpus (73.26% of original 205100, drops 54841)', 'datetime': '2023-05-21T23:01:47.563799', 'gensim': '4.3.1', 'python': '3.8.3 (default, Jul  2 2020, 17:30:36) [MSC v.1916 64 bit (AMD64)]', 'platform': 'Windows-10-10.0.19041-SP0', 'event': 'prepare_vocab'}\n",
      "INFO - 23:01:47: deleting the raw counts dictionary of 20235 items\n",
      "INFO - 23:01:47: sample=0.001 downsamples 50 most-common words\n",
      "INFO - 23:01:47: Word2Vec lifecycle event {'msg': 'downsampling leaves estimated 107434.34620006992 word corpus (71.5%% of prior 150259)', 'datetime': '2023-05-21T23:01:47.573801', 'gensim': '4.3.1', 'python': '3.8.3 (default, Jul  2 2020, 17:30:36) [MSC v.1916 64 bit (AMD64)]', 'platform': 'Windows-10-10.0.19041-SP0', 'event': 'prepare_vocab'}\n",
      "INFO - 23:01:47: estimated required memory for 1000 words and 50 dimensions: 900000 bytes\n",
      "INFO - 23:01:47: resetting layer weights\n",
      "INFO - 23:01:47: Word2Vec lifecycle event {'update': False, 'trim_rule': 'None', 'datetime': '2023-05-21T23:01:47.586802', 'gensim': '4.3.1', 'python': '3.8.3 (default, Jul  2 2020, 17:30:36) [MSC v.1916 64 bit (AMD64)]', 'platform': 'Windows-10-10.0.19041-SP0', 'event': 'build_vocab'}\n"
     ]
    }
   ],
   "source": [
    "w2v_model.build_vocab(sentences, progress_per=10000)"
   ]
  },
  {
   "cell_type": "code",
   "execution_count": 53,
   "metadata": {},
   "outputs": [
    {
     "name": "stderr",
     "output_type": "stream",
     "text": [
      "INFO - 23:01:49: Word2Vec lifecycle event {'msg': 'training model with 4 workers on 1000 vocabulary and 50 features, using sg=0 hs=0 sample=0.001 negative=5 window=10 shrink_windows=True', 'datetime': '2023-05-21T23:01:49.006043', 'gensim': '4.3.1', 'python': '3.8.3 (default, Jul  2 2020, 17:30:36) [MSC v.1916 64 bit (AMD64)]', 'platform': 'Windows-10-10.0.19041-SP0', 'event': 'train'}\n",
      "INFO - 23:01:49: EPOCH 0: training on 205100 raw words (107534 effective words) took 0.4s, 289740 effective words/s\n",
      "INFO - 23:01:49: EPOCH 1: training on 205100 raw words (107364 effective words) took 0.3s, 318131 effective words/s\n",
      "INFO - 23:01:50: EPOCH 2: training on 205100 raw words (107368 effective words) took 0.3s, 327016 effective words/s\n",
      "INFO - 23:01:50: EPOCH 3: training on 205100 raw words (107291 effective words) took 0.3s, 345174 effective words/s\n",
      "INFO - 23:01:50: EPOCH 4: training on 205100 raw words (107308 effective words) took 0.3s, 357522 effective words/s\n",
      "INFO - 23:01:51: EPOCH 5: training on 205100 raw words (107452 effective words) took 0.3s, 332739 effective words/s\n",
      "INFO - 23:01:51: EPOCH 6: training on 205100 raw words (107253 effective words) took 0.3s, 332734 effective words/s\n",
      "INFO - 23:01:51: EPOCH 7: training on 205100 raw words (107543 effective words) took 0.3s, 335212 effective words/s\n",
      "INFO - 23:01:52: EPOCH 8: training on 205100 raw words (107418 effective words) took 0.3s, 339310 effective words/s\n",
      "INFO - 23:01:52: EPOCH 9: training on 205100 raw words (107361 effective words) took 0.3s, 340110 effective words/s\n",
      "INFO - 23:01:52: EPOCH 10: training on 205100 raw words (107387 effective words) took 0.3s, 329432 effective words/s\n",
      "INFO - 23:01:53: EPOCH 11: training on 205100 raw words (107367 effective words) took 0.3s, 351111 effective words/s\n",
      "INFO - 23:01:53: EPOCH 12: training on 205100 raw words (107448 effective words) took 0.3s, 343310 effective words/s\n",
      "INFO - 23:01:53: EPOCH 13: training on 205100 raw words (107495 effective words) took 0.3s, 350206 effective words/s\n",
      "INFO - 23:01:54: EPOCH 14: training on 205100 raw words (107379 effective words) took 0.3s, 327300 effective words/s\n",
      "INFO - 23:01:54: EPOCH 15: training on 205100 raw words (107383 effective words) took 0.3s, 339325 effective words/s\n",
      "INFO - 23:01:54: EPOCH 16: training on 205100 raw words (107602 effective words) took 0.3s, 346460 effective words/s\n",
      "INFO - 23:01:55: EPOCH 17: training on 205100 raw words (107295 effective words) took 0.3s, 347525 effective words/s\n",
      "INFO - 23:01:55: EPOCH 18: training on 205100 raw words (107402 effective words) took 0.3s, 330537 effective words/s\n",
      "INFO - 23:01:55: EPOCH 19: training on 205100 raw words (107303 effective words) took 0.3s, 357260 effective words/s\n",
      "INFO - 23:01:56: EPOCH 20: training on 205100 raw words (107413 effective words) took 0.3s, 331539 effective words/s\n",
      "INFO - 23:01:56: EPOCH 21: training on 205100 raw words (107614 effective words) took 0.3s, 343853 effective words/s\n",
      "INFO - 23:01:56: EPOCH 22: training on 205100 raw words (107442 effective words) took 0.3s, 357892 effective words/s\n",
      "INFO - 23:01:57: EPOCH 23: training on 205100 raw words (107566 effective words) took 0.3s, 343413 effective words/s\n",
      "INFO - 23:01:57: EPOCH 24: training on 205100 raw words (107312 effective words) took 0.3s, 357303 effective words/s\n",
      "INFO - 23:01:57: EPOCH 25: training on 205100 raw words (107314 effective words) took 0.3s, 347379 effective words/s\n",
      "INFO - 23:01:58: EPOCH 26: training on 205100 raw words (107644 effective words) took 0.2s, 476939 effective words/s\n",
      "INFO - 23:01:58: EPOCH 27: training on 205100 raw words (107509 effective words) took 0.3s, 342393 effective words/s\n",
      "INFO - 23:01:58: EPOCH 28: training on 205100 raw words (107589 effective words) took 0.3s, 333023 effective words/s\n",
      "INFO - 23:01:59: EPOCH 29: training on 205100 raw words (107500 effective words) took 0.3s, 369070 effective words/s\n",
      "INFO - 23:01:59: Word2Vec lifecycle event {'msg': 'training on 6153000 raw words (3222856 effective words) took 10.0s, 322474 effective words/s', 'datetime': '2023-05-21T23:01:59.001102', 'gensim': '4.3.1', 'python': '3.8.3 (default, Jul  2 2020, 17:30:36) [MSC v.1916 64 bit (AMD64)]', 'platform': 'Windows-10-10.0.19041-SP0', 'event': 'train'}\n"
     ]
    },
    {
     "data": {
      "text/plain": [
       "(3222856, 6153000)"
      ]
     },
     "execution_count": 53,
     "metadata": {},
     "output_type": "execute_result"
    }
   ],
   "source": [
    "w2v_model.train(sentences, total_examples=w2v_model.corpus_count, epochs=30, report_delay=1)"
   ]
  },
  {
   "cell_type": "markdown",
   "metadata": {},
   "source": [
    "### Lets Analysize\n",
    "\n",
    "Lets check in our word2vec models some words similarity"
   ]
  },
  {
   "cell_type": "code",
   "execution_count": 54,
   "metadata": {},
   "outputs": [
    {
     "data": {
      "text/plain": [
       "[('innovation', 0.569883406162262),\n",
       " ('market', 0.5127063393592834),\n",
       " ('sector', 0.48545601963996887),\n",
       " ('manufacturing', 0.464173287153244),\n",
       " ('government', 0.4237501323223114),\n",
       " ('category', 0.42142608761787415),\n",
       " ('firm', 0.4196717441082001),\n",
       " ('industrial', 0.415778785943985),\n",
       " ('financial_service', 0.41200780868530273),\n",
       " ('real_estate', 0.40069979429244995)]"
      ]
     },
     "execution_count": 54,
     "metadata": {},
     "output_type": "execute_result"
    }
   ],
   "source": [
    "w2v_model.wv.most_similar(positive=[\"industry\"])"
   ]
  },
  {
   "cell_type": "code",
   "execution_count": 55,
   "metadata": {},
   "outputs": [
    {
     "data": {
      "text/plain": [
       "[('population', 0.6291395425796509),\n",
       " ('health_care', 0.6218021512031555),\n",
       " ('healthcare', 0.6210702061653137),\n",
       " ('wellness', 0.5459017753601074),\n",
       " ('mental_health', 0.5440821647644043),\n",
       " ('mental', 0.5409170389175415),\n",
       " ('family', 0.5405942797660828),\n",
       " ('Health', 0.5394222736358643),\n",
       " ('health_plan', 0.536107063293457),\n",
       " ('behavioral', 0.5296799540519714)]"
      ]
     },
     "execution_count": 55,
     "metadata": {},
     "output_type": "execute_result"
    }
   ],
   "source": [
    "w2v_model.wv.most_similar(positive=[\"health\"])"
   ]
  },
  {
   "cell_type": "code",
   "execution_count": null,
   "metadata": {},
   "outputs": [],
   "source": [
    "w2v_model.wv.most_similar(positive=[\"security\"])"
   ]
  },
  {
   "cell_type": "code",
   "execution_count": null,
   "metadata": {},
   "outputs": [],
   "source": [
    "w2v_model.wv.most_similar(positive=[\"big_datum\"])"
   ]
  },
  {
   "cell_type": "code",
   "execution_count": null,
   "metadata": {},
   "outputs": [],
   "source": [
    "w2v_model.wv.most_similar(positive=[\"doctor\"])"
   ]
  },
  {
   "cell_type": "markdown",
   "metadata": {},
   "source": [
    "As we can see above there, the model is correlating near terms and their semantic significancy."
   ]
  },
  {
   "cell_type": "markdown",
   "metadata": {},
   "source": [
    "### Analogies"
   ]
  },
  {
   "cell_type": "markdown",
   "metadata": {},
   "source": [
    "Lets try to check if our wav2vec model can make some analogies\n",
    "\n",
    "*What word is to doctor as company is to developer?*"
   ]
  },
  {
   "cell_type": "code",
   "execution_count": 62,
   "metadata": {},
   "outputs": [
    {
     "data": {
      "text/plain": [
       "[('healthcare_provider', 0.6101425886154175),\n",
       " ('clinic', 0.5275355577468872),\n",
       " ('medical', 0.5180250406265259),\n",
       " ('health_care', 0.4670306146144867)]"
      ]
     },
     "execution_count": 62,
     "metadata": {},
     "output_type": "execute_result"
    }
   ],
   "source": [
    "w2v_model.wv.most_similar(positive=[\"doctor\", \"company\"], negative=[\"developer\"], topn=4)"
   ]
  },
  {
   "cell_type": "code",
   "execution_count": 63,
   "metadata": {},
   "outputs": [],
   "source": [
    "from src.analysis.text import tsnescatterplot"
   ]
  },
  {
   "cell_type": "code",
   "execution_count": 64,
   "metadata": {},
   "outputs": [
    {
     "data": {
      "image/png": "[encoded data removed]",
      "text/plain": [
       "<Figure size 648x648 with 1 Axes>"
      ]
     },
     "metadata": {},
     "output_type": "display_data"
    }
   ],
   "source": [
    "tsnescatterplot(w2v_model, 'security', ['protect', 'cybersecurity', 'protection', 'protect', 'attack', 'cyber', 'identity'])"
   ]
  },
  {
   "cell_type": "markdown",
   "metadata": {},
   "source": [
    "As we can see, the security term is highly associated with others security terms, teir near of then in their spatial proximity."
   ]
  },
  {
   "cell_type": "code",
   "execution_count": 65,
   "metadata": {},
   "outputs": [
    {
     "data": {
      "text/plain": [
       "3452"
      ]
     },
     "execution_count": 65,
     "metadata": {},
     "output_type": "execute_result"
    }
   ],
   "source": [
    "len(preprocessed_text)"
   ]
  },
  {
   "cell_type": "markdown",
   "metadata": {},
   "source": [
    "### Training Pipeline\n",
    "\n",
    "Lets create our Pipeline to vectorize with word2vec.\n",
    "\n",
    "Base on the previous analysis, the kmeans model will have 4 cluster.\n",
    "\n",
    "Based on Security, Manufacture, Health and Marketing industries."
   ]
  },
  {
   "cell_type": "code",
   "execution_count": 66,
   "metadata": {},
   "outputs": [],
   "source": [
    "from tqdm import tqdm\n",
    "from src.modeling.cluster import KPipeline\n",
    "import numpy as np"
   ]
  },
  {
   "cell_type": "code",
   "execution_count": 69,
   "metadata": {},
   "outputs": [],
   "source": [
    "pipeline = KPipeline()"
   ]
  },
  {
   "cell_type": "code",
   "execution_count": 71,
   "metadata": {},
   "outputs": [
    {
     "name": "stderr",
     "output_type": "stream",
     "text": [
      "INFO - 23:05:01: Preprocessing texts...\n",
      "100%|████████████████████████████████████████████████████████████████████████████████████████████████████████████████████████████████████| 3452/3452 [00:00<00:00, 19392.01it/s]\n",
      "INFO - 23:05:45: Vectorizing the texts...\n"
     ]
    }
   ],
   "source": [
    "vectors = pipeline.prepare(df=data, text_column='desc', w2v_model=w2v_model)"
   ]
  },
  {
   "cell_type": "code",
   "execution_count": 72,
   "metadata": {},
   "outputs": [
    {
     "name": "stderr",
     "output_type": "stream",
     "text": [
      "C:\\Users\\mathe\\AppData\\Roaming\\Python\\Python38\\site-packages\\sklearn\\cluster\\_kmeans.py:870: FutureWarning: The default value of `n_init` will change from 3 to 'auto' in 1.4. Set the value of `n_init` explicitly to suppress the warning\n",
      "  warnings.warn(\n",
      "C:\\Users\\mathe\\AppData\\Roaming\\Python\\Python38\\site-packages\\sklearn\\cluster\\_kmeans.py:1902: UserWarning: MiniBatchKMeans is known to have a memory leak on Windows with MKL, when there are less chunks than available threads. You can prevent it by setting batch_size >= 1024 or by setting the environment variable OMP_NUM_THREADS=2\n",
      "  warnings.warn(\n"
     ]
    },
    {
     "name": "stdout",
     "output_type": "stream",
     "text": [
      "For n_clusters = 6\n",
      "Silhouette coefficient: 0.19\n",
      "Inertia:3030.409473241688\n",
      "Silhouette values:\n",
      "    Cluster 4: Size:369 | Avg:0.42 | Min:0.05 | Max: 0.61\n",
      "    Cluster 1: Size:1095 | Avg:0.24 | Min:-0.19 | Max: 0.47\n",
      "    Cluster 2: Size:1081 | Avg:0.23 | Min:-0.10 | Max: 0.47\n",
      "    Cluster 0: Size:18 | Avg:0.08 | Min:-0.33 | Max: 0.36\n",
      "    Cluster 5: Size:469 | Avg:0.01 | Min:-0.22 | Max: 0.27\n",
      "    Cluster 3: Size:420 | Avg:-0.00 | Min:-0.28 | Max: 0.26\n"
     ]
    }
   ],
   "source": [
    "clustering = pipeline.mbkmeans_clusters(\n",
    "    k=6,\n",
    "    mb=500,\n",
    "    print_silhouette_values=True\n",
    ")"
   ]
  },
  {
   "cell_type": "markdown",
   "metadata": {},
   "source": [
    "Lets check which words more represents each cluster"
   ]
  },
  {
   "cell_type": "code",
   "execution_count": 86,
   "metadata": {},
   "outputs": [
    {
     "name": "stdout",
     "output_type": "stream",
     "text": [
      "Most representative terms per cluster (based on centroids):\n",
      "Cluster 0: s want love ! happy \n",
      "Cluster 1: s love want ! earn \n",
      "Cluster 2: s love want ! happy \n",
      "Cluster 3: s . ! month earn \n"
     ]
    }
   ],
   "source": [
    "print(\"Most representative terms per cluster (based on centroids):\")\n",
    "for i in range(4):\n",
    "    tokens_per_cluster = \"\"\n",
    "    most_representative = w2v_model.wv.most_similar(positive=[clustering.cluster_centers_[i]], topn=5)\n",
    "    for t in most_representative:\n",
    "        tokens_per_cluster += f\"{t[0]} \"\n",
    "    print(f\"Cluster {i}: {tokens_per_cluster}\")"
   ]
  },
  {
   "cell_type": "code",
   "execution_count": 74,
   "metadata": {},
   "outputs": [
    {
     "name": "stdout",
     "output_type": "stream",
     "text": [
      "Cin7 inventory management software is the smartest way for growing brands to sell more to more customers in more places. With extensive integration and workflow automation, Cin7 makes it easy to optimize inventory, manage orders, and maximize margins for every location and every sales channel that matters to you. Cin7 includes built-in POS,warehouse management and B2B eCommerce features, and built-in EDI for selling to major retailers around the world. Cin7 also integrates with online marketplaces, 3PL warehouses, as well as accounting, sales and marketing, inventory forecasting and other solutions you use to run your business. Visit Cin7.com for more information.\n",
      "-------------\n",
      "Amelia is a computer software company that offers an app that helps employees develop mental health habits with breathing, meditation, and yoga.It syncs with popular wearable devices like Apple Watch or Fitbit to suggest data-driven recommendations unique to each person. Also, it provides an analytics dashboard to help HR teams better understandemployee health outcomes and gives an aggregated and personalized employee data which shows improvements to heart rate, sleep, and mood.Isaac Hunter, Shubh Jagani, and Carl Eckert established the company in Los Angeles, California in 2017.\n",
      "-------------\n",
      "Pagers mission is to help people make better healthcare decisions by increasing access, decreasing costs, and making care easier to understand. Pager provides a flexible, embeddable platform for health plans and systems to better serve consumers with information, guidance, and coordination. By bringing AI-augmented care and service teams together,Pagers platform unsilos and provides services such as triage, telemedicine, appointment scheduling, prescription refills, health advocacy, and care coordination creating a unified, concierge experience like having a doctor in your family. Pager supports more than 15 million covered lives across the United States and Latin America. www.pager.com\n",
      "-------------\n"
     ]
    }
   ],
   "source": [
    "test_cluster = 1\n",
    "most_representative_docs = np.argsort(\n",
    "    np.linalg.norm(vectors - clustering.cluster_centers_[test_cluster], axis=1)\n",
    ")\n",
    "for d in most_representative_docs[:3]:\n",
    "    print(data['desc'][d])\n",
    "    print(\"-------------\")"
   ]
  },
  {
   "cell_type": "code",
   "execution_count": 75,
   "metadata": {},
   "outputs": [],
   "source": [
    "data['cluster_label'] = clustering.labels_"
   ]
  },
  {
   "cell_type": "markdown",
   "metadata": {},
   "source": [
    "### Distribution\n",
    "\n",
    "Distribution of companies by clusters"
   ]
  },
  {
   "cell_type": "code",
   "execution_count": 88,
   "metadata": {},
   "outputs": [
    {
     "data": {
      "text/plain": [
       "<Axes: >"
      ]
     },
     "execution_count": 88,
     "metadata": {},
     "output_type": "execute_result"
    },
    {
     "data": {
      "image/png": "[encoded data removed]",
      "text/plain": [
       "<Figure size 432x288 with 1 Axes>"
      ]
     },
     "metadata": {},
     "output_type": "display_data"
    }
   ],
   "source": [
    "data['cluster_label'].value_counts().plot.bar()"
   ]
  },
  {
   "cell_type": "code",
   "execution_count": 85,
   "metadata": {},
   "outputs": [
    {
     "data": {
      "text/plain": [
       "[{'id': '1ac1c877-462a-47a4-b002-79a01899c229',\n",
       "  'desc': 'Sherpa is a last mile courier market place. Through SherpaFleet; a delivery and driver management software as a service platform (SaaS) we help businesses manage their fleets and access the inventory from other fleets and including sharing their own.This creates a more efficient and effective last mile solution for businesses overalldisrupting the principle of owning the driver.',\n",
       "  'text_length': 381,\n",
       "  'num_sentences': 3,\n",
       "  'token_count': 64,\n",
       "  'text_length_outlier_bound': 'no_outlier',\n",
       "  'num_sentences_outlier_bound': 'no_outlier',\n",
       "  'token_count_outlier_bound': 'no_outlier',\n",
       "  'name': 'Sherpa ',\n",
       "  'cluster_label': 0},\n",
       " {'id': '9d39a3bd-0e0c-4067-9595-8f09cee9522a',\n",
       "  'desc': 'Persado is the Marketing Language Cloud; AI generated language that resonates the most with any audience, segment or individual. Imagine having a data scientist and a copywriter for each person in your audience; you get the language that performs and the analytics explaining why, resulting in more business and unseen insights. Comprised of theworlds largest database, with over a million words and phrases tagged and scored for consumer marketing, Persados Marketing Language Cloud enables brands to increase acquisition and retention while building long term consumer relationships.',\n",
       "  'text_length': 585,\n",
       "  'num_sentences': 3,\n",
       "  'token_count': 95,\n",
       "  'text_length_outlier_bound': 'no_outlier',\n",
       "  'num_sentences_outlier_bound': 'no_outlier',\n",
       "  'token_count_outlier_bound': 'no_outlier',\n",
       "  'name': 'Persado',\n",
       "  'cluster_label': 0},\n",
       " {'id': '97e7736c-8b3f-4803-a989-2a6aed04b4b5',\n",
       "  'desc': 'ShoreTel is a Sunnyvale, Calif. a seller of IP telecom systems to large businesses. ShoreTel, Inc., together with its subsidiaries, engages in the development and sale of Internet protocol (IP) communications systems for enterprises in the United States and internationally. The companys systems are based on its distributed softwarearchitecture and switch-based hardware platform that enable multi-site enterprises to be served by a single telecommunications system. Its solutions include ShoreTel IP Phones; ShoreTel Voice Switches; ShoreTel Service Appliances; ShoreTel Director, which enables IT administrators to view and manage the entire system of the enterprise from any location using a single application; Unified Messaging solutions that enables users to obtain voice mail messages from various devices; Automated Attendant, which enables the enterprise to direct callers to appropriate individuals, workgroups, or messages; and Small Business Edition solution for smaller enterprises. The company also provides ShoreTel Communicator, which enables the integration of IP telephony solutions with instant messaging, desktop collaboration, and video; Microsoft Integration; ShoreTel Contact Center that enables organizations to route incoming contacts to appropriate agent in a multisite contact center; and ShoreTel Mobility for smartphone users that allows the user to communicate from any location, including office, home, or through Wi-Fi hotspots. In addition, it offers custom application development, integration, and implementation services for businesses; and post-contractual support, training, system design and installation, and professional services. The company sells its products to small, medium, and large companies, as well as public institutions in various markets, including the professional services, financial services, government, education, healthcare, manufacturing, non-profit organization, and technology through a network of distributors. ShoreTel, Inc. was founded in 1996 and is headquartered in Sunnyvale, California.',\n",
       "  'text_length': 2057,\n",
       "  'num_sentences': 9,\n",
       "  'token_count': 337,\n",
       "  'text_length_outlier_bound': 'upper_bound',\n",
       "  'num_sentences_outlier_bound': 'no_outlier',\n",
       "  'token_count_outlier_bound': 'upper_bound',\n",
       "  'name': 'ShoreTel',\n",
       "  'cluster_label': 0},\n",
       " {'id': '4c90b7ad-d0eb-4000-89e0-234eec6e6a6f',\n",
       "  'desc': 'Rosita, a longevity coach that aims to help seniors increase their healthy lifespan and avoid the risk of dependency. Rosita helps create new healthy habits at home, in the form of a personalized Longevity Itinerary: Cardio for different levels; Strength, Flexibility and Equilibrium; Mental activity, Happiness and Loneliness; Joint Pain exercises;Sexuality above 60; and many others.',\n",
       "  'text_length': 385,\n",
       "  'num_sentences': 2,\n",
       "  'token_count': 67,\n",
       "  'text_length_outlier_bound': 'no_outlier',\n",
       "  'num_sentences_outlier_bound': 'no_outlier',\n",
       "  'token_count_outlier_bound': 'no_outlier',\n",
       "  'name': 'Rosita',\n",
       "  'cluster_label': 0},\n",
       " {'id': 'a897a1b2-a3e6-4b7f-b6f2-021cdb40cfca',\n",
       "  'desc': 'OpenSC is an impact venture that uses advanced technology to enable more sustainable, ethical, and profitable supply chains. Businesses and consumers can use the OpenSC platform to do three things: verify claims about sustainable and ethical production using data science and machine learning; trace products throughout supply chains using IoT andblockchain; and share information with consumers to promote purchasing of more responsible products. OpenSC was co-founded by WWF-Australia (the World Wide Fund for Nature) and BCG Digital Ventures.',\n",
       "  'text_length': 545,\n",
       "  'num_sentences': 3,\n",
       "  'token_count': 92,\n",
       "  'text_length_outlier_bound': 'no_outlier',\n",
       "  'num_sentences_outlier_bound': 'no_outlier',\n",
       "  'token_count_outlier_bound': 'no_outlier',\n",
       "  'name': 'OpenSC ',\n",
       "  'cluster_label': 0}]"
      ]
     },
     "execution_count": 85,
     "metadata": {},
     "output_type": "execute_result"
    }
   ],
   "source": [
    "data[data['cluster_label'] == 0].sample(5).to_dict(orient='records')"
   ]
  },
  {
   "cell_type": "code",
   "execution_count": 80,
   "metadata": {},
   "outputs": [],
   "source": [
    "df = data.copy()\n",
    "\n",
    "df['desc_norm'] = preprocessed_text"
   ]
  },
  {
   "cell_type": "code",
   "execution_count": 81,
   "metadata": {},
   "outputs": [
    {
     "name": "stdout",
     "output_type": "stream",
     "text": [
      "Cluster 5:\n",
      "  cluster_label        word frequency\n",
      "0             5           ,      2100\n",
      "1             5           -      1768\n",
      "2             5           .      1630\n",
      "3             5           (       315\n",
      "4             5           )       306\n",
      "5             5     company       299\n",
      "6             5    platform       264\n",
      "7             5        base       211\n",
      "8             5  technology       187\n",
      "9             5       datum       174\n",
      "\n",
      "Cluster 1:\n",
      "   cluster_label        word frequency\n",
      "10             1           ,      8775\n",
      "11             1           .      4473\n",
      "12             1           -      1639\n",
      "13             1     company       808\n",
      "14             1    platform       661\n",
      "15             1       datum       538\n",
      "16             1     provide       451\n",
      "17             1    customer       407\n",
      "18             1  technology       393\n",
      "19             1     service       392\n",
      "\n",
      "Cluster 3:\n",
      "   cluster_label      word frequency\n",
      "20             3         ,      2959\n",
      "21             3         .      1361\n",
      "22             3         -       638\n",
      "23             3   company       323\n",
      "24             3  platform       201\n",
      "25             3     found       162\n",
      "26             3         (       160\n",
      "27             3         )       145\n",
      "28             3     datum       135\n",
      "29             3   provide       126\n",
      "\n",
      "Cluster 4:\n",
      "   cluster_label      word frequency\n",
      "30             4         .       729\n",
      "31             4         ,       347\n",
      "32             4         -       130\n",
      "33             4   company       126\n",
      "34             4  platform       121\n",
      "35             4  business       106\n",
      "36             4   provide        94\n",
      "37             4  solution        91\n",
      "38             4  customer        84\n",
      "39             4     datum        84\n",
      "\n",
      "Cluster 2:\n",
      "   cluster_label      word frequency\n",
      "40             2         ,      4524\n",
      "41             2         .      3962\n",
      "42             2         -      1650\n",
      "43             2   company       659\n",
      "44             2  platform       577\n",
      "45             2     datum       485\n",
      "46             2   service       419\n",
      "47             2  business       410\n",
      "48             2  solution       397\n",
      "49             2   provide       391\n",
      "\n",
      "Cluster 0:\n",
      "   cluster_label      word frequency\n",
      "50             0         ,       130\n",
      "51             0         .        74\n",
      "52             0         ;        68\n",
      "53             0         -        28\n",
      "54             0   service        23\n",
      "55             0  solution        21\n",
      "56             0     datum        17\n",
      "57             0    enable        15\n",
      "58             0  business        14\n",
      "59             0   company        13\n",
      "\n"
     ]
    }
   ],
   "source": [
    "import pandas as pd\n",
    "from collections import Counter\n",
    "\n",
    "# Assuming your original dataset is a Pandas DataFrame called 'df'\n",
    "# 'desc' column contains the descriptions and 'cluster_label' column contains the cluster labels\n",
    "\n",
    "# Create an empty DataFrame to store the results\n",
    "top_words_df = pd.DataFrame(columns=['cluster_label', 'word', 'frequency'])\n",
    "\n",
    "# Get the unique cluster labels in the dataset\n",
    "unique_clusters = df['cluster_label'].unique()\n",
    "\n",
    "# Iterate over each cluster label and find the top 10 most frequent words\n",
    "for cluster_label in unique_clusters:\n",
    "    # Filter the DataFrame for the current cluster\n",
    "    cluster_df = df[df['cluster_label'] == cluster_label]\n",
    "    \n",
    "    # Concatenate all the descriptions for the current cluster\n",
    "    descriptions = ' '.join(cluster_df['desc_norm'].tolist())\n",
    "    \n",
    "    # Split the text into individual words\n",
    "    words = descriptions.split()\n",
    "    \n",
    "    # Count the frequency of each word\n",
    "    word_counts = Counter(words)\n",
    "    \n",
    "    # Get the top 10 most frequent words\n",
    "    top_words = word_counts.most_common(10)\n",
    "    \n",
    "    # Create a DataFrame for the current cluster's top words\n",
    "    cluster_top_words_df = pd.DataFrame(top_words, columns=['word', 'frequency'])\n",
    "    cluster_top_words_df['cluster_label'] = cluster_label\n",
    "    \n",
    "    # Append the current cluster's top words DataFrame to the overall top words DataFrame\n",
    "    top_words_df = pd.concat([top_words_df, cluster_top_words_df], ignore_index=True)\n",
    "\n",
    "# Sort the DataFrame by cluster_label and frequency\n",
    "top_words_df = top_words_df.sort_values(by=['cluster_label', 'frequency'], ascending=[True, False])\n",
    "\n",
    "# Print the top 10 most frequent words by cluster_label\n",
    "for cluster_label in unique_clusters:\n",
    "    cluster_words_df = top_words_df[top_words_df['cluster_label'] == cluster_label]\n",
    "    print(f\"Cluster {cluster_label}:\")\n",
    "    print(cluster_words_df.head(10))\n",
    "    print()"
   ]
  },
  {
   "cell_type": "code",
   "execution_count": 89,
   "metadata": {},
   "outputs": [
    {
     "data": {
      "image/png": "[encoded data removed]",
      "text/plain": [
       "<Figure size 432x288 with 1 Axes>"
      ]
     },
     "metadata": {},
     "output_type": "display_data"
    }
   ],
   "source": [
    "import pandas as pd\n",
    "import matplotlib.pyplot as plt\n",
    "\n",
    "# Assuming your dataset is a Pandas DataFrame called 'df'\n",
    "# 'cluster_label' column contains the cluster labels\n",
    "\n",
    "# Count the number of instances in each cluster\n",
    "cluster_counts = df['cluster_label'].value_counts()\n",
    "\n",
    "# Create a bar plot to visualize the cluster quantity\n",
    "plt.bar(cluster_counts.index, cluster_counts.values)\n",
    "\n",
    "# Set labels and title for the plot\n",
    "plt.xlabel('Cluster Label')\n",
    "plt.ylabel('Quantity')\n",
    "plt.title('Cluster Quantity')\n",
    "\n",
    "# Display the plot\n",
    "plt.show()"
   ]
  },
  {
   "cell_type": "markdown",
   "metadata": {},
   "source": [
    "## Conclusions\n",
    "\n",
    "Cluster 0: This cluster has a relatively lower frequency of punctuation marks and terms like 'company' and 'platform.' It includes terms like 'service,' 'solution,' 'datum,' and 'enable.' This cluster might represent descriptions emphasizing services, solutions, and data-enabled capabilities.\n",
    "\n",
    "Cluster 1: Similar to Cluster 5, this cluster also has frequent punctuation marks (',' and '.') and terms like 'company,' 'platform,' and 'technology.' However, it has a higher frequency of terms like 'provide,' 'customer,' and 'service.' This cluster might represent descriptions of companies providing technology services or platforms.\n",
    "\n",
    "Cluster 2: This cluster also contains punctuation marks (',' and '.'), along with terms like 'company,' 'platform,' and 'service.' It has a relatively higher frequency of terms like 'business' and 'solution.' This cluster might represent descriptions of companies or platforms providing business solutions and services.\n",
    "\n",
    "Cluster 3: This cluster also contains punctuation marks (',' and '.'), along with terms like 'company,' 'platform,' and 'provide.' It has a relatively higher frequency of the term 'found.' This cluster might represent descriptions of companies or platforms focused on founding or establishing something.\n",
    "\n",
    "Cluster 4: Similar to other clusters, this one includes punctuation marks (',' and '.'), along with terms like 'company' and 'platform.' It has a higher frequency of terms like 'business,' 'solution,' and 'customer.' This cluster might represent descriptions of companies or platforms offering business solutions and targeting customers.\n",
    "\n",
    "Cluster 5: The most frequent words in this cluster include punctuation marks (',' and '.'), along with common terms like 'company,' 'platform,' and 'technology.' This cluster might represent descriptions related to technology companies or platforms.\n",
    "\n",
    "\n",
    "In conclusion, Word2Vec embeddings have proven to be valuable in capturing semantic relationships and similarities between words in text data. The embeddings enable various operations, such as word analogies and measuring text similarity, which offer insights into the underlying semantic structure of the data. However, when applying K-means clustering to short descriptions for sector segmentation, the results may not meet expectations due to certain factors. Insufficient or inconsistent data quality, inadequate representation of sector-specific information in the embeddings, and an incorrect number of clusters are potential reasons for suboptimal clustering outcomes. Additionally, the limited amount of data may impact the effectiveness of the K-means algorithm. Exploring alternative feature representations, considering other relevant features, and evaluating the clustering results with domain knowledge are recommended steps to enhance sector-based clustering accuracy."
   ]
  }
 ],
 "metadata": {
  "kernelspec": {
   "display_name": "Python 3",
   "language": "python",
   "name": "python3"
  },
  "language_info": {
   "codemirror_mode": {
    "name": "ipython",
    "version": 3
   },
   "file_extension": ".py",
   "mimetype": "text/x-python",
   "name": "python",
   "nbconvert_exporter": "python",
   "pygments_lexer": "ipython3",
   "version": "3.8.3"
  }
 },
 "nbformat": 4,
 "nbformat_minor": 4
}
