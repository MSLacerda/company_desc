{
 "cells": [
  {
   "cell_type": "code",
   "execution_count": 1,
   "metadata": {},
   "outputs": [
    {
     "name": "stderr",
     "output_type": "stream",
     "text": [
      "C:\\Users\\mathe\\AppData\\Roaming\\Python\\Python38\\site-packages\\pandas\\core\\computation\\expressions.py:20: UserWarning: Pandas requires version '2.7.3' or newer of 'numexpr' (version '2.7.1' currently installed).\n",
      "  from pandas.core.computation.check import NUMEXPR_INSTALLED\n"
     ]
    }
   ],
   "source": [
    "import pandas as pd\n",
    "import nltk\n",
    "import spacy\n",
    "import sys\n",
    "import os"
   ]
  },
  {
   "cell_type": "code",
   "execution_count": 2,
   "metadata": {},
   "outputs": [],
   "source": [
    "%load_ext autoreload\n",
    "%autoreload 2"
   ]
  },
  {
   "cell_type": "code",
   "execution_count": 6,
   "metadata": {},
   "outputs": [],
   "source": [
    "PROJECT_BASE_PATH = 'C:\\\\projects\\\\a3_test'\n",
    "DATA_BASE_PATH = os.path.join(PROJECT_BASE_PATH, 'data')\n",
    "SPACY_MODEL = 'en_core_web_md'\n",
    "\n",
    "sys.path.append(PROJECT_BASE_PATH)"
   ]
  },
  {
   "cell_type": "code",
   "execution_count": 7,
   "metadata": {},
   "outputs": [],
   "source": [
    "import logging  # Setting up the loggings to monitor gensim\n",
    "logging.basicConfig(format=\"%(levelname)s - %(asctime)s: %(message)s\", datefmt= '%H:%M:%S', level=logging.INFO)"
   ]
  },
  {
   "cell_type": "code",
   "execution_count": 8,
   "metadata": {},
   "outputs": [],
   "source": [
    "## Defining our custom functions\n",
    "\n",
    "from src.preprocessing.text import normalize_text, remove_noisy_texts, add_textual_statistics\n",
    "from src.preprocessing.reports import duplicated_report, missing_values_report\n",
    "from src.analysis.companies import detect_company_name\n",
    "from src.utils import printmd\n",
    "\n",
    "from src.modeling.cluster import KPipeline\n",
    "from sklearn.decomposition import PCA\n",
    "from sklearn.feature_extraction.text import TfidfVectorizer"
   ]
  },
  {
   "cell_type": "markdown",
   "metadata": {},
   "source": [
    "## Modeling 🧠💡📊\n",
    "\n",
    "In this topic, we will leverage SciKit Learn to analyze our corpus using clusterization. By employing cluster analysis, we can uncover valuable insights regarding the composition of clusters and effectively reduce the dimensionality of the data. PyCaret provides a comprehensive set of tools and techniques that facilitate the exploration, evaluation, and interpretation of clusters, enabling us to gain a deeper understanding of our dataset. Through this approach, we aim to extract meaningful patterns and structures within the data, which can inform decision-making processes and unlock hidden insights.\n",
    "\n",
    "For our experiment we will try 1:\n",
    "   * KMeans Clusterization with word2vec"
   ]
  },
  {
   "cell_type": "markdown",
   "metadata": {},
   "source": [
    "## Clusterization by KMeans"
   ]
  },
  {
   "cell_type": "code",
   "execution_count": 9,
   "metadata": {},
   "outputs": [],
   "source": [
    "data = pd.read_csv(os.path.join(DATA_BASE_PATH, 'curated', 'featured.csv'))"
   ]
  },
  {
   "cell_type": "code",
   "execution_count": 10,
   "metadata": {},
   "outputs": [
    {
     "data": {
      "text/html": [
       "<div>\n",
       "<style scoped>\n",
       "    .dataframe tbody tr th:only-of-type {\n",
       "        vertical-align: middle;\n",
       "    }\n",
       "\n",
       "    .dataframe tbody tr th {\n",
       "        vertical-align: top;\n",
       "    }\n",
       "\n",
       "    .dataframe thead th {\n",
       "        text-align: right;\n",
       "    }\n",
       "</style>\n",
       "<table border=\"1\" class=\"dataframe\">\n",
       "  <thead>\n",
       "    <tr style=\"text-align: right;\">\n",
       "      <th></th>\n",
       "      <th>id</th>\n",
       "      <th>desc</th>\n",
       "      <th>text_length</th>\n",
       "      <th>num_sentences</th>\n",
       "      <th>token_count</th>\n",
       "      <th>text_length_outlier_bound</th>\n",
       "      <th>num_sentences_outlier_bound</th>\n",
       "      <th>token_count_outlier_bound</th>\n",
       "      <th>name</th>\n",
       "    </tr>\n",
       "  </thead>\n",
       "  <tbody>\n",
       "    <tr>\n",
       "      <th>2465</th>\n",
       "      <td>a17013c0-4b24-4edf-a144-acbf7025505a</td>\n",
       "      <td>Funnel is here to put an end to manual data co...</td>\n",
       "      <td>673</td>\n",
       "      <td>8</td>\n",
       "      <td>133</td>\n",
       "      <td>no_outlier</td>\n",
       "      <td>no_outlier</td>\n",
       "      <td>no_outlier</td>\n",
       "      <td>Funnel</td>\n",
       "    </tr>\n",
       "    <tr>\n",
       "      <th>2363</th>\n",
       "      <td>979de07b-a9a0-40c7-9672-5fc2cc7ab16c</td>\n",
       "      <td>Sevagram is a non-profit organization that off...</td>\n",
       "      <td>138</td>\n",
       "      <td>1</td>\n",
       "      <td>24</td>\n",
       "      <td>no_outlier</td>\n",
       "      <td>no_outlier</td>\n",
       "      <td>no_outlier</td>\n",
       "      <td>Sevagram</td>\n",
       "    </tr>\n",
       "    <tr>\n",
       "      <th>213</th>\n",
       "      <td>79acf242-b3f2-41e1-b71f-9ca0a28bd694</td>\n",
       "      <td>WeGot is a specialist in home furnishing with ...</td>\n",
       "      <td>82</td>\n",
       "      <td>1</td>\n",
       "      <td>15</td>\n",
       "      <td>no_outlier</td>\n",
       "      <td>no_outlier</td>\n",
       "      <td>no_outlier</td>\n",
       "      <td>WeGot</td>\n",
       "    </tr>\n",
       "  </tbody>\n",
       "</table>\n",
       "</div>"
      ],
      "text/plain": [
       "                                        id  \\\n",
       "2465  a17013c0-4b24-4edf-a144-acbf7025505a   \n",
       "2363  979de07b-a9a0-40c7-9672-5fc2cc7ab16c   \n",
       "213   79acf242-b3f2-41e1-b71f-9ca0a28bd694   \n",
       "\n",
       "                                                   desc  text_length  \\\n",
       "2465  Funnel is here to put an end to manual data co...          673   \n",
       "2363  Sevagram is a non-profit organization that off...          138   \n",
       "213   WeGot is a specialist in home furnishing with ...           82   \n",
       "\n",
       "      num_sentences  token_count text_length_outlier_bound  \\\n",
       "2465              8          133                no_outlier   \n",
       "2363              1           24                no_outlier   \n",
       "213               1           15                no_outlier   \n",
       "\n",
       "     num_sentences_outlier_bound token_count_outlier_bound      name  \n",
       "2465                  no_outlier                no_outlier   Funnel   \n",
       "2363                  no_outlier                no_outlier  Sevagram  \n",
       "213                   no_outlier                no_outlier    WeGot   "
      ]
     },
     "execution_count": 10,
     "metadata": {},
     "output_type": "execute_result"
    }
   ],
   "source": [
    "data.sample(3)"
   ]
  },
  {
   "cell_type": "markdown",
   "metadata": {},
   "source": [
    "### Text Preprocessing\n",
    "\n",
    "First lets preprocess our text, removing stopwords, and lemmatizing our text to avoid bias and reduce the data complexity."
   ]
  },
  {
   "cell_type": "code",
   "execution_count": 11,
   "metadata": {},
   "outputs": [],
   "source": [
    "pipeline = KPipeline()"
   ]
  },
  {
   "cell_type": "code",
   "execution_count": 12,
   "metadata": {},
   "outputs": [
    {
     "name": "stderr",
     "output_type": "stream",
     "text": [
      "100%|█████████████████████████████████████████████████████████████████████████████████████████████████████████████████████████████████████| 3452/3452 [00:00<00:00, 6333.47it/s]\n"
     ]
    }
   ],
   "source": [
    "preprocessed_text = pipeline.preprocess_text(data['desc'])"
   ]
  },
  {
   "cell_type": "code",
   "execution_count": 13,
   "metadata": {},
   "outputs": [
    {
     "data": {
      "text/plain": [
       "'Vectra cybersecurity platform use AI detect automatically stop attacker real time collect datum perform conclusive incident investigation specialize cloud network detection response NDR cloud datum center workload account user IoT device company offer applicationson Cognito platform address high priority use case Cognito detect Office365 Azure ad find stop attack enterprise SaaS application Microsoft 365 ecosystem Cognito Stream send security enrich metadata zeek format data lake siem Cognito Recall cloud base application store investigate threat enrich metadata Cognito Detect use AI reveal prioritize hidden unknown attacker speed Vectra found 2011 base San Jose California'"
      ]
     },
     "execution_count": 13,
     "metadata": {},
     "output_type": "execute_result"
    }
   ],
   "source": [
    "preprocessed_text[0]"
   ]
  },
  {
   "cell_type": "code",
   "execution_count": 14,
   "metadata": {},
   "outputs": [],
   "source": [
    "from wordcloud import WordCloud"
   ]
  },
  {
   "cell_type": "markdown",
   "metadata": {},
   "source": [
    "Lets show a wordcloud to understand better which words are more present on the preprocessed text"
   ]
  },
  {
   "cell_type": "code",
   "execution_count": 15,
   "metadata": {},
   "outputs": [
    {
     "data": {
      "text/plain": [
       "(-0.5, 1199.5, 699.5, -0.5)"
      ]
     },
     "execution_count": 15,
     "metadata": {},
     "output_type": "execute_result"
    },
    {
     "data": {
      "image/png": "[encoded data removed]",
      "text/plain": [
       "<Figure size 432x288 with 1 Axes>"
      ]
     },
     "metadata": {
      "needs_background": "light"
     },
     "output_type": "display_data"
    }
   ],
   "source": [
    "# Generate a word cloud image\n",
    "wordcloud = WordCloud(\n",
    "    width=1200, height=700\n",
    ").generate(' '.join(preprocessed_text))\n",
    "\n",
    "# Display the generated image:\n",
    "# the matplotlib way:\n",
    "import matplotlib.pyplot as plt\n",
    "plt.imshow(wordcloud, interpolation='bilinear')\n",
    "plt.axis(\"off\")"
   ]
  },
  {
   "cell_type": "markdown",
   "metadata": {},
   "source": [
    "Now lets vectorize our preprocessed to text to input in a model, instead of using populars approaches like TFIDF and BOW lets use Word2Vec, thats can gather semantic correlations between the words."
   ]
  },
  {
   "cell_type": "markdown",
   "metadata": {},
   "source": [
    "### Word2Vec"
   ]
  },
  {
   "cell_type": "code",
   "execution_count": 16,
   "metadata": {},
   "outputs": [
    {
     "name": "stderr",
     "output_type": "stream",
     "text": [
      "C:\\Users\\mathe\\anaconda3\\lib\\site-packages\\paramiko\\transport.py:219: CryptographyDeprecationWarning: Blowfish has been deprecated\n",
      "  \"class\": algorithms.Blowfish,\n",
      "INFO - 23:45:50: adding document #0 to Dictionary<0 unique tokens: []>\n",
      "INFO - 23:45:50: built Dictionary<12 unique tokens: ['computer', 'human', 'interface', 'response', 'survey']...> from 9 documents (total 29 corpus positions)\n",
      "INFO - 23:45:50: Dictionary lifecycle event {'msg': \"built Dictionary<12 unique tokens: ['computer', 'human', 'interface', 'response', 'survey']...> from 9 documents (total 29 corpus positions)\", 'datetime': '2023-05-21T23:45:50.598930', 'gensim': '4.3.1', 'python': '3.8.3 (default, Jul  2 2020, 17:30:36) [MSC v.1916 64 bit (AMD64)]', 'platform': 'Windows-10-10.0.19041-SP0', 'event': 'created'}\n"
     ]
    }
   ],
   "source": [
    "from gensim.models import Word2Vec\n",
    "from gensim.test.utils import common_texts\n",
    "from gensim.models import KeyedVectors\n",
    "from gensim.models.phrases import Phrases, Phraser\n",
    "import time"
   ]
  },
  {
   "cell_type": "markdown",
   "metadata": {},
   "source": [
    "Lets prepare our data for Word2Vec model"
   ]
  },
  {
   "cell_type": "markdown",
   "metadata": {},
   "source": [
    "### Bigram data\n",
    "\n",
    "The following process helps capture multi-word expressions and can improve the quality of subsequent analyses, such as topic modeling or word embeddings. In this case we will use it to automatically capture most commom phrases from sentences, they also form a bigram."
   ]
  },
  {
   "cell_type": "code",
   "execution_count": 17,
   "metadata": {},
   "outputs": [
    {
     "name": "stderr",
     "output_type": "stream",
     "text": [
      "INFO - 23:45:51: collecting all words and their counts\n",
      "INFO - 23:45:51: PROGRESS: at sentence #0, processed 0 words and 0 word types\n",
      "INFO - 23:45:51: collected 140406 token types (unigram + bigrams) from a corpus of 169218 words and 3452 sentences\n",
      "INFO - 23:45:51: merged Phrases<140406 vocab, min_count=30, threshold=10.0, max_vocab_size=40000000>\n",
      "INFO - 23:45:51: Phrases lifecycle event {'msg': 'built Phrases<140406 vocab, min_count=30, threshold=10.0, max_vocab_size=40000000> in 0.25s', 'datetime': '2023-05-21T23:45:51.285984', 'gensim': '4.3.1', 'python': '3.8.3 (default, Jul  2 2020, 17:30:36) [MSC v.1916 64 bit (AMD64)]', 'platform': 'Windows-10-10.0.19041-SP0', 'event': 'created'}\n",
      "INFO - 23:45:51: exporting phrases from Phrases<140406 vocab, min_count=30, threshold=10.0, max_vocab_size=40000000>\n",
      "INFO - 23:45:51: FrozenPhrases lifecycle event {'msg': 'exported FrozenPhrases<69 phrases, min_count=30, threshold=10.0> from Phrases<140406 vocab, min_count=30, threshold=10.0, max_vocab_size=40000000> in 0.39s', 'datetime': '2023-05-21T23:45:51.680016', 'gensim': '4.3.1', 'python': '3.8.3 (default, Jul  2 2020, 17:30:36) [MSC v.1916 64 bit (AMD64)]', 'platform': 'Windows-10-10.0.19041-SP0', 'event': 'created'}\n"
     ]
    }
   ],
   "source": [
    "sent = [row.split() for row in preprocessed_text]\n",
    "phrases = Phrases(sent, min_count=30, progress_per=10000)\n",
    "bigram = Phraser(phrases)\n",
    "sentences = bigram[sent]"
   ]
  },
  {
   "cell_type": "code",
   "execution_count": 18,
   "metadata": {},
   "outputs": [
    {
     "data": {
      "text/plain": [
       "<gensim.interfaces.TransformedCorpus at 0x1bfce1faa90>"
      ]
     },
     "execution_count": 18,
     "metadata": {},
     "output_type": "execute_result"
    }
   ],
   "source": [
    "sentences"
   ]
  },
  {
   "cell_type": "code",
   "execution_count": 19,
   "metadata": {},
   "outputs": [],
   "source": [
    "from collections import Counter\n",
    "\n",
    "# Flatten the list of lists into a single list\n",
    "all_words = [word for sublist in sentences for word in sublist]\n",
    "\n",
    "# Count the frequency of each word\n",
    "word_counts = Counter(all_words)\n",
    "\n",
    "# Sort the word counts in descending order\n",
    "sorted_counts = sorted(word_counts.items(), key=lambda x: x[1], reverse=True)"
   ]
  },
  {
   "cell_type": "code",
   "execution_count": 20,
   "metadata": {},
   "outputs": [
    {
     "data": {
      "text/plain": [
       "[('company', 2009),\n",
       " ('platform', 1831),\n",
       " ('datum', 1321),\n",
       " ('provide', 1234),\n",
       " ('technology', 1136),\n",
       " ('solution', 1132),\n",
       " ('service', 1087),\n",
       " ('customer', 981),\n",
       " ('help', 915),\n",
       " ('business', 912)]"
      ]
     },
     "execution_count": 20,
     "metadata": {},
     "output_type": "execute_result"
    }
   ],
   "source": [
    "sorted_counts[:10]"
   ]
  },
  {
   "cell_type": "code",
   "execution_count": 21,
   "metadata": {},
   "outputs": [
    {
     "data": {
      "text/plain": [
       "[('1980', 1),\n",
       " ('Leandro', 1),\n",
       " ('everysecond', 1),\n",
       " ('tornado', 1),\n",
       " ('AA', 1),\n",
       " ('andfit', 1),\n",
       " ('LUCIRA', 1),\n",
       " ('intertech', 1),\n",
       " ('forvarious', 1),\n",
       " ('vandalism', 1)]"
      ]
     },
     "execution_count": 21,
     "metadata": {},
     "output_type": "execute_result"
    }
   ],
   "source": [
    "sorted_counts[-10:]"
   ]
  },
  {
   "cell_type": "markdown",
   "metadata": {},
   "source": [
    "Below we can check the most commons bigrams"
   ]
  },
  {
   "cell_type": "code",
   "execution_count": 22,
   "metadata": {},
   "outputs": [
    {
     "data": {
      "text/plain": [
       "[('real_time', 136.3583590866312),\n",
       " ('use_case', 20.993720095693778),\n",
       " ('cloud_base', 36.67039839625039),\n",
       " ('found_2011', 29.108042164351666),\n",
       " ('base_San', 12.21938756480549),\n",
       " ('e_commerce', 451.3432494279176),\n",
       " ('found_2015', 63.78647888923592),\n",
       " ('high_quality', 59.33977523772933),\n",
       " ('customer_experience', 14.239087976360123),\n",
       " ('supply_chain', 490.41820456678136)]"
      ]
     },
     "execution_count": 22,
     "metadata": {},
     "output_type": "execute_result"
    }
   ],
   "source": [
    "list(phrases.find_phrases(sent).items())[:10]"
   ]
  },
  {
   "cell_type": "markdown",
   "metadata": {},
   "source": [
    "### Build the model"
   ]
  },
  {
   "cell_type": "code",
   "execution_count": 23,
   "metadata": {},
   "outputs": [
    {
     "name": "stderr",
     "output_type": "stream",
     "text": [
      "INFO - 23:45:54: Word2Vec lifecycle event {'params': 'Word2Vec<vocab=0, vector_size=50, alpha=0.025>', 'datetime': '2023-05-21T23:45:54.211840', 'gensim': '4.3.1', 'python': '3.8.3 (default, Jul  2 2020, 17:30:36) [MSC v.1916 64 bit (AMD64)]', 'platform': 'Windows-10-10.0.19041-SP0', 'event': 'created'}\n"
     ]
    }
   ],
   "source": [
    "w2v_model = Word2Vec(min_count=30,\n",
    "                     window=10,\n",
    "                     vector_size=50,\n",
    "                     workers=4)"
   ]
  },
  {
   "cell_type": "markdown",
   "metadata": {},
   "source": [
    "#### Vocab"
   ]
  },
  {
   "cell_type": "code",
   "execution_count": 24,
   "metadata": {},
   "outputs": [
    {
     "name": "stderr",
     "output_type": "stream",
     "text": [
      "INFO - 23:45:54: collecting all words and their counts\n",
      "INFO - 23:45:54: PROGRESS: at sentence #0, processed 0 words, keeping 0 word types\n",
      "INFO - 23:45:54: collected 20216 word types from a corpus of 164845 raw words and 3452 sentences\n",
      "INFO - 23:45:54: Creating a fresh vocabulary\n",
      "INFO - 23:45:54: Word2Vec lifecycle event {'msg': 'effective_min_count=30 retains 996 unique words (4.93% of original 20216, drops 19220)', 'datetime': '2023-05-21T23:45:54.767881', 'gensim': '4.3.1', 'python': '3.8.3 (default, Jul  2 2020, 17:30:36) [MSC v.1916 64 bit (AMD64)]', 'platform': 'Windows-10-10.0.19041-SP0', 'event': 'prepare_vocab'}\n",
      "INFO - 23:45:54: Word2Vec lifecycle event {'msg': 'effective_min_count=30 leaves 110103 word corpus (66.79% of original 164845, drops 54742)', 'datetime': '2023-05-21T23:45:54.767881', 'gensim': '4.3.1', 'python': '3.8.3 (default, Jul  2 2020, 17:30:36) [MSC v.1916 64 bit (AMD64)]', 'platform': 'Windows-10-10.0.19041-SP0', 'event': 'prepare_vocab'}\n",
      "INFO - 23:45:54: deleting the raw counts dictionary of 20216 items\n",
      "INFO - 23:45:54: sample=0.001 downsamples 73 most-common words\n",
      "INFO - 23:45:54: Word2Vec lifecycle event {'msg': 'downsampling leaves estimated 94653.78305015106 word corpus (86.0%% of prior 110103)', 'datetime': '2023-05-21T23:45:54.779883', 'gensim': '4.3.1', 'python': '3.8.3 (default, Jul  2 2020, 17:30:36) [MSC v.1916 64 bit (AMD64)]', 'platform': 'Windows-10-10.0.19041-SP0', 'event': 'prepare_vocab'}\n",
      "INFO - 23:45:54: estimated required memory for 996 words and 50 dimensions: 896400 bytes\n",
      "INFO - 23:45:54: resetting layer weights\n",
      "INFO - 23:45:54: Word2Vec lifecycle event {'update': False, 'trim_rule': 'None', 'datetime': '2023-05-21T23:45:54.791884', 'gensim': '4.3.1', 'python': '3.8.3 (default, Jul  2 2020, 17:30:36) [MSC v.1916 64 bit (AMD64)]', 'platform': 'Windows-10-10.0.19041-SP0', 'event': 'build_vocab'}\n"
     ]
    }
   ],
   "source": [
    "w2v_model.build_vocab(sentences, progress_per=10000)"
   ]
  },
  {
   "cell_type": "code",
   "execution_count": 25,
   "metadata": {},
   "outputs": [
    {
     "name": "stderr",
     "output_type": "stream",
     "text": [
      "INFO - 23:45:55: Word2Vec lifecycle event {'msg': 'training model with 4 workers on 996 vocabulary and 50 features, using sg=0 hs=0 sample=0.001 negative=5 window=10 shrink_windows=True', 'datetime': '2023-05-21T23:45:55.103918', 'gensim': '4.3.1', 'python': '3.8.3 (default, Jul  2 2020, 17:30:36) [MSC v.1916 64 bit (AMD64)]', 'platform': 'Windows-10-10.0.19041-SP0', 'event': 'train'}\n",
      "INFO - 23:45:55: EPOCH 0: training on 164845 raw words (94644 effective words) took 0.3s, 370367 effective words/s\n",
      "INFO - 23:45:55: EPOCH 1: training on 164845 raw words (94520 effective words) took 0.3s, 358677 effective words/s\n",
      "INFO - 23:45:55: EPOCH 2: training on 164845 raw words (94540 effective words) took 0.3s, 370898 effective words/s\n",
      "INFO - 23:45:56: EPOCH 3: training on 164845 raw words (94742 effective words) took 0.2s, 379033 effective words/s\n",
      "INFO - 23:45:56: EPOCH 4: training on 164845 raw words (94631 effective words) took 0.3s, 370950 effective words/s\n",
      "INFO - 23:45:56: EPOCH 5: training on 164845 raw words (94594 effective words) took 0.2s, 381864 effective words/s\n",
      "INFO - 23:45:57: EPOCH 6: training on 164845 raw words (94665 effective words) took 0.2s, 384053 effective words/s\n",
      "INFO - 23:45:57: EPOCH 7: training on 164845 raw words (94610 effective words) took 0.3s, 377216 effective words/s\n",
      "INFO - 23:45:57: EPOCH 8: training on 164845 raw words (94648 effective words) took 0.3s, 368358 effective words/s\n",
      "INFO - 23:45:57: EPOCH 9: training on 164845 raw words (94702 effective words) took 0.3s, 363282 effective words/s\n",
      "INFO - 23:45:58: EPOCH 10: training on 164845 raw words (94514 effective words) took 0.3s, 377547 effective words/s\n",
      "INFO - 23:45:58: EPOCH 11: training on 164845 raw words (94736 effective words) took 0.2s, 388159 effective words/s\n",
      "INFO - 23:45:58: EPOCH 12: training on 164845 raw words (94620 effective words) took 0.2s, 380722 effective words/s\n",
      "INFO - 23:45:58: EPOCH 13: training on 164845 raw words (94754 effective words) took 0.2s, 407803 effective words/s\n",
      "INFO - 23:45:59: EPOCH 14: training on 164845 raw words (94666 effective words) took 0.2s, 398838 effective words/s\n",
      "INFO - 23:45:59: EPOCH 15: training on 164845 raw words (94598 effective words) took 0.2s, 399736 effective words/s\n",
      "INFO - 23:45:59: EPOCH 16: training on 164845 raw words (94484 effective words) took 0.2s, 393003 effective words/s\n",
      "INFO - 23:45:59: EPOCH 17: training on 164845 raw words (94767 effective words) took 0.3s, 376985 effective words/s\n",
      "INFO - 23:46:00: EPOCH 18: training on 164845 raw words (94662 effective words) took 0.2s, 379822 effective words/s\n",
      "INFO - 23:46:00: EPOCH 19: training on 164845 raw words (94712 effective words) took 0.2s, 383291 effective words/s\n",
      "INFO - 23:46:00: EPOCH 20: training on 164845 raw words (94553 effective words) took 0.2s, 387550 effective words/s\n",
      "INFO - 23:46:00: EPOCH 21: training on 164845 raw words (94653 effective words) took 0.3s, 362193 effective words/s\n",
      "INFO - 23:46:01: EPOCH 22: training on 164845 raw words (94706 effective words) took 0.2s, 395360 effective words/s\n",
      "INFO - 23:46:01: EPOCH 23: training on 164845 raw words (94737 effective words) took 0.3s, 356460 effective words/s\n",
      "INFO - 23:46:01: EPOCH 24: training on 164845 raw words (94631 effective words) took 0.2s, 381627 effective words/s\n",
      "INFO - 23:46:02: EPOCH 25: training on 164845 raw words (94661 effective words) took 0.2s, 406128 effective words/s\n",
      "INFO - 23:46:02: EPOCH 26: training on 164845 raw words (94617 effective words) took 0.2s, 387345 effective words/s\n",
      "INFO - 23:46:02: EPOCH 27: training on 164845 raw words (94520 effective words) took 0.3s, 367198 effective words/s\n",
      "INFO - 23:46:02: EPOCH 28: training on 164845 raw words (94646 effective words) took 0.3s, 350745 effective words/s\n",
      "INFO - 23:46:03: EPOCH 29: training on 164845 raw words (94512 effective words) took 0.4s, 225304 effective words/s\n",
      "INFO - 23:46:03: Word2Vec lifecycle event {'msg': 'training on 4945350 raw words (2839045 effective words) took 8.2s, 346251 effective words/s', 'datetime': '2023-05-21T23:46:03.303544', 'gensim': '4.3.1', 'python': '3.8.3 (default, Jul  2 2020, 17:30:36) [MSC v.1916 64 bit (AMD64)]', 'platform': 'Windows-10-10.0.19041-SP0', 'event': 'train'}\n"
     ]
    },
    {
     "data": {
      "text/plain": [
       "(2839045, 4945350)"
      ]
     },
     "execution_count": 25,
     "metadata": {},
     "output_type": "execute_result"
    }
   ],
   "source": [
    "w2v_model.train(sentences, total_examples=w2v_model.corpus_count, epochs=30, report_delay=1)"
   ]
  },
  {
   "cell_type": "markdown",
   "metadata": {},
   "source": [
    "### Lets Analysize\n",
    "\n",
    "Lets check in our word2vec models some words similarity"
   ]
  },
  {
   "cell_type": "code",
   "execution_count": 31,
   "metadata": {},
   "outputs": [
    {
     "data": {
      "text/plain": [
       "[('innovation', 0.5773265361785889),\n",
       " ('sector', 0.5523201823234558),\n",
       " ('manufacturing', 0.5237802863121033),\n",
       " ('financial_service', 0.502993643283844),\n",
       " ('market', 0.46635016798973083),\n",
       " ('firm', 0.46527281403541565),\n",
       " ('engineering', 0.4405854046344757),\n",
       " ('world_class', 0.4115391969680786),\n",
       " ('technology', 0.40877485275268555),\n",
       " ('government', 0.4066818952560425)]"
      ]
     },
     "execution_count": 31,
     "metadata": {},
     "output_type": "execute_result"
    }
   ],
   "source": [
    "w2v_model.wv.most_similar(positive=[\"industry\"])"
   ]
  },
  {
   "cell_type": "code",
   "execution_count": 32,
   "metadata": {},
   "outputs": [
    {
     "data": {
      "text/plain": [
       "[('health_care', 0.6783728003501892),\n",
       " ('healthcare', 0.6694887280464172),\n",
       " ('population', 0.6538257598876953),\n",
       " ('care', 0.5940485000610352),\n",
       " ('behavioral', 0.59393310546875),\n",
       " ('assist', 0.5905578136444092),\n",
       " ('mental', 0.5848016142845154),\n",
       " ('health_plan', 0.5709306597709656),\n",
       " ('wellness', 0.5680117011070251),\n",
       " ('clinic', 0.5677362680435181)]"
      ]
     },
     "execution_count": 32,
     "metadata": {},
     "output_type": "execute_result"
    }
   ],
   "source": [
    "w2v_model.wv.most_similar(positive=[\"health\"])"
   ]
  },
  {
   "cell_type": "code",
   "execution_count": 33,
   "metadata": {},
   "outputs": [
    {
     "data": {
      "text/plain": [
       "[('cybersecurity', 0.7443768382072449),\n",
       " ('threat', 0.7347331047058105),\n",
       " ('protection', 0.7299214005470276),\n",
       " ('attack', 0.6648440361022949),\n",
       " ('response', 0.6047664284706116),\n",
       " ('protect', 0.5997428297996521),\n",
       " ('Security', 0.5789488554000854),\n",
       " ('cyber', 0.5674246549606323),\n",
       " ('sensitive', 0.5654309391975403),\n",
       " ('vendor', 0.5629333257675171)]"
      ]
     },
     "execution_count": 33,
     "metadata": {},
     "output_type": "execute_result"
    }
   ],
   "source": [
    "w2v_model.wv.most_similar(positive=[\"security\"])"
   ]
  },
  {
   "cell_type": "code",
   "execution_count": 34,
   "metadata": {},
   "outputs": [
    {
     "data": {
      "text/plain": [
       "[('artificial_intelligence', 0.7348484992980957),\n",
       " ('machine_learn', 0.7198577523231506),\n",
       " ('predictive', 0.7048218250274658),\n",
       " ('advanced', 0.6893791556358337),\n",
       " ('Artificial_Intelligence', 0.6696293354034424),\n",
       " ('engine', 0.6689944267272949),\n",
       " ('machine_learning', 0.6650936007499695),\n",
       " ('apply', 0.6573071479797363),\n",
       " ('algorithm', 0.6520746946334839),\n",
       " ('proprietary', 0.65143883228302)]"
      ]
     },
     "execution_count": 34,
     "metadata": {},
     "output_type": "execute_result"
    }
   ],
   "source": [
    "w2v_model.wv.most_similar(positive=[\"big_datum\"])"
   ]
  },
  {
   "cell_type": "code",
   "execution_count": 30,
   "metadata": {},
   "outputs": [
    {
     "data": {
      "text/plain": [
       "[('appointment', 0.7520332336425781),\n",
       " ('consultation', 0.7516988515853882),\n",
       " ('clinic', 0.7271532416343689),\n",
       " ('healthcare_provider', 0.7163151502609253),\n",
       " ('therapist', 0.6532019972801208),\n",
       " ('family', 0.6483581066131592),\n",
       " ('pharmacy', 0.6357461810112),\n",
       " ('patient', 0.6298717856407166),\n",
       " ('primary_care', 0.6134478449821472),\n",
       " ('receive', 0.6070359945297241)]"
      ]
     },
     "execution_count": 30,
     "metadata": {},
     "output_type": "execute_result"
    }
   ],
   "source": [
    "w2v_model.wv.most_similar(positive=[\"doctor\"])"
   ]
  },
  {
   "cell_type": "markdown",
   "metadata": {},
   "source": [
    "As we can see above there, the model is correlating near terms and their semantic significancy."
   ]
  },
  {
   "cell_type": "markdown",
   "metadata": {},
   "source": [
    "### Analogies"
   ]
  },
  {
   "cell_type": "markdown",
   "metadata": {},
   "source": [
    "Lets try to check if our wav2vec model can make some analogies\n",
    "\n",
    "*What word is to doctor as company is to developer?*"
   ]
  },
  {
   "cell_type": "code",
   "execution_count": 35,
   "metadata": {},
   "outputs": [
    {
     "data": {
      "text/plain": [
       "[('healthcare_provider', 0.5976635813713074),\n",
       " ('clinic', 0.5976130962371826),\n",
       " ('pharmacy', 0.5399656295776367),\n",
       " ('India', 0.5370372533798218)]"
      ]
     },
     "execution_count": 35,
     "metadata": {},
     "output_type": "execute_result"
    }
   ],
   "source": [
    "w2v_model.wv.most_similar(positive=[\"doctor\", \"company\"], negative=[\"developer\"], topn=4)"
   ]
  },
  {
   "cell_type": "code",
   "execution_count": 36,
   "metadata": {},
   "outputs": [],
   "source": [
    "from src.analysis.text import tsnescatterplot"
   ]
  },
  {
   "cell_type": "code",
   "execution_count": 37,
   "metadata": {},
   "outputs": [
    {
     "data": {
      "image/png": "[encoded data removed]",
      "text/plain": [
       "<Figure size 648x648 with 1 Axes>"
      ]
     },
     "metadata": {},
     "output_type": "display_data"
    }
   ],
   "source": [
    "tsnescatterplot(w2v_model, 'security', ['protect', 'cybersecurity', 'protection', 'protect', 'attack', 'cyber', 'identity'])"
   ]
  },
  {
   "cell_type": "markdown",
   "metadata": {},
   "source": [
    "As we can see, the security term is highly associated with others security terms, teir near of then in their spatial proximity."
   ]
  },
  {
   "cell_type": "code",
   "execution_count": 38,
   "metadata": {},
   "outputs": [
    {
     "data": {
      "text/plain": [
       "3452"
      ]
     },
     "execution_count": 38,
     "metadata": {},
     "output_type": "execute_result"
    }
   ],
   "source": [
    "len(preprocessed_text)"
   ]
  },
  {
   "cell_type": "markdown",
   "metadata": {},
   "source": [
    "### Training Pipeline\n",
    "\n",
    "Lets create our Pipeline to vectorize with word2vec.\n",
    "\n",
    "Base on the previous analysis, the kmeans model will have 4 cluster.\n",
    "\n",
    "Based on Security, Manufacture, Health and Marketing industries."
   ]
  },
  {
   "cell_type": "code",
   "execution_count": 39,
   "metadata": {},
   "outputs": [],
   "source": [
    "from tqdm import tqdm\n",
    "from src.modeling.cluster import KPipeline\n",
    "import numpy as np"
   ]
  },
  {
   "cell_type": "code",
   "execution_count": 40,
   "metadata": {},
   "outputs": [],
   "source": [
    "pipeline = KPipeline()"
   ]
  },
  {
   "cell_type": "code",
   "execution_count": 41,
   "metadata": {},
   "outputs": [
    {
     "name": "stderr",
     "output_type": "stream",
     "text": [
      "INFO - 23:46:53: Preprocessing texts...\n",
      "100%|█████████████████████████████████████████████████████████████████████████████████████████████████████████████████████████████████████| 3452/3452 [00:00<00:00, 6959.12it/s]\n",
      "INFO - 23:47:36: Vectorizing the texts...\n"
     ]
    }
   ],
   "source": [
    "vectors = pipeline.prepare(df=data, text_column='desc', w2v_model=w2v_model)"
   ]
  },
  {
   "cell_type": "code",
   "execution_count": 42,
   "metadata": {},
   "outputs": [
    {
     "name": "stderr",
     "output_type": "stream",
     "text": [
      "C:\\Users\\mathe\\AppData\\Roaming\\Python\\Python38\\site-packages\\sklearn\\cluster\\_kmeans.py:870: FutureWarning: The default value of `n_init` will change from 3 to 'auto' in 1.4. Set the value of `n_init` explicitly to suppress the warning\n",
      "  warnings.warn(\n",
      "C:\\Users\\mathe\\AppData\\Roaming\\Python\\Python38\\site-packages\\sklearn\\cluster\\_kmeans.py:1902: UserWarning: MiniBatchKMeans is known to have a memory leak on Windows with MKL, when there are less chunks than available threads. You can prevent it by setting batch_size >= 1024 or by setting the environment variable OMP_NUM_THREADS=2\n",
      "  warnings.warn(\n"
     ]
    },
    {
     "name": "stdout",
     "output_type": "stream",
     "text": [
      "For n_clusters = 6\n",
      "Silhouette coefficient: 0.68\n",
      "Inertia:376.144109386215\n",
      "Silhouette values:\n",
      "    Cluster 1: Size:28 | Avg:1.00 | Min:1.00 | Max: 1.00\n",
      "    Cluster 5: Size:1797 | Avg:1.00 | Min:0.49 | Max: 1.00\n",
      "    Cluster 3: Size:374 | Avg:0.40 | Min:-0.45 | Max: 0.63\n",
      "    Cluster 0: Size:696 | Avg:0.31 | Min:-0.40 | Max: 0.58\n",
      "    Cluster 4: Size:478 | Avg:0.30 | Min:-0.27 | Max: 0.55\n",
      "    Cluster 2: Size:79 | Avg:0.23 | Min:-0.22 | Max: 0.46\n"
     ]
    }
   ],
   "source": [
    "clustering = pipeline.mbkmeans_clusters(\n",
    "    k=6,\n",
    "    mb=500,\n",
    "    print_silhouette_values=True\n",
    ")"
   ]
  },
  {
   "cell_type": "markdown",
   "metadata": {},
   "source": [
    "Lets check which words more represents each cluster"
   ]
  },
  {
   "cell_type": "code",
   "execution_count": 43,
   "metadata": {},
   "outputs": [
    {
     "name": "stdout",
     "output_type": "stream",
     "text": [
      "Most representative terms per cluster (based on centroids):\n",
      "Cluster 0: s love want know not \n",
      "Cluster 1: SaaS view founder audience medication \n",
      "Cluster 2: s 3 love month know \n",
      "Cluster 3: s love want know not \n"
     ]
    }
   ],
   "source": [
    "print(\"Most representative terms per cluster (based on centroids):\")\n",
    "for i in range(4):\n",
    "    tokens_per_cluster = \"\"\n",
    "    most_representative = w2v_model.wv.most_similar(positive=[clustering.cluster_centers_[i]], topn=5)\n",
    "    for t in most_representative:\n",
    "        tokens_per_cluster += f\"{t[0]} \"\n",
    "    print(f\"Cluster {i}: {tokens_per_cluster}\")"
   ]
  },
  {
   "cell_type": "code",
   "execution_count": 44,
   "metadata": {},
   "outputs": [
    {
     "name": "stdout",
     "output_type": "stream",
     "text": [
      "Bigid is a internet marketing agency that provides digital marketing.\n",
      "-------------\n",
      "SafelyYou is the artificial intelligence-enabled fall detection and prevention for dementia care.\n",
      "-------------\n",
      "Connecting doctors and patients with clinical trials\n",
      "-------------\n"
     ]
    }
   ],
   "source": [
    "test_cluster = 1\n",
    "most_representative_docs = np.argsort(\n",
    "    np.linalg.norm(vectors - clustering.cluster_centers_[test_cluster], axis=1)\n",
    ")\n",
    "for d in most_representative_docs[:3]:\n",
    "    print(data['desc'][d])\n",
    "    print(\"-------------\")"
   ]
  },
  {
   "cell_type": "code",
   "execution_count": 50,
   "metadata": {},
   "outputs": [],
   "source": [
    "data['cluster_label'] = clustering.labels_"
   ]
  },
  {
   "cell_type": "markdown",
   "metadata": {},
   "source": [
    "### Distribution\n",
    "\n",
    "Distribution of companies by clusters"
   ]
  },
  {
   "cell_type": "code",
   "execution_count": 51,
   "metadata": {},
   "outputs": [
    {
     "data": {
      "text/plain": [
       "<Axes: >"
      ]
     },
     "execution_count": 51,
     "metadata": {},
     "output_type": "execute_result"
    },
    {
     "data": {
      "image/png": "[encoded data removed]",
      "text/plain": [
       "<Figure size 432x288 with 1 Axes>"
      ]
     },
     "metadata": {},
     "output_type": "display_data"
    }
   ],
   "source": [
    "data['cluster_label'].value_counts().plot.bar()"
   ]
  },
  {
   "cell_type": "code",
   "execution_count": 54,
   "metadata": {},
   "outputs": [
    {
     "data": {
      "text/plain": [
       "[{'id': 'c40f9973-4ca3-4b52-a4cd-1f9b7299f168',\n",
       "  'desc': 'Helpmy is a caregiver application for elders and families.',\n",
       "  'text_length': 58,\n",
       "  'num_sentences': 1,\n",
       "  'token_count': 10,\n",
       "  'text_length_outlier_bound': 'no_outlier',\n",
       "  'num_sentences_outlier_bound': 'no_outlier',\n",
       "  'token_count_outlier_bound': 'no_outlier',\n",
       "  'name': 'Helpmy',\n",
       "  'cluster_label': 1},\n",
       " {'id': '1796ce30-1043-4d8b-ac77-b278f18e8bb5',\n",
       "  'desc': 'FineHeal is a platform that connects patients and family with healthcare providers.',\n",
       "  'text_length': 83,\n",
       "  'num_sentences': 1,\n",
       "  'token_count': 13,\n",
       "  'text_length_outlier_bound': 'no_outlier',\n",
       "  'num_sentences_outlier_bound': 'no_outlier',\n",
       "  'token_count_outlier_bound': 'no_outlier',\n",
       "  'name': 'FineHeal ',\n",
       "  'cluster_label': 1},\n",
       " {'id': '53be59c3-47c6-49a0-9d39-83973e4b74dd',\n",
       "  'desc': 'Connecting doctors and patients with clinical trials',\n",
       "  'text_length': 52,\n",
       "  'num_sentences': 1,\n",
       "  'token_count': 7,\n",
       "  'text_length_outlier_bound': 'no_outlier',\n",
       "  'num_sentences_outlier_bound': 'no_outlier',\n",
       "  'token_count_outlier_bound': 'no_outlier',\n",
       "  'name': 'Connecting ',\n",
       "  'cluster_label': 1},\n",
       " {'id': '00c78b22-f6ca-4afe-b6b2-5347463d8492',\n",
       "  'desc': 'tethr is a peer enabled mental health and well-being platform for anyone that identifies as a man.',\n",
       "  'text_length': 98,\n",
       "  'num_sentences': 1,\n",
       "  'token_count': 20,\n",
       "  'text_length_outlier_bound': 'no_outlier',\n",
       "  'num_sentences_outlier_bound': 'no_outlier',\n",
       "  'token_count_outlier_bound': 'no_outlier',\n",
       "  'name': 'tethr',\n",
       "  'cluster_label': 1},\n",
       " {'id': 'a305fb85-bf5e-4744-a2f4-29673f442464',\n",
       "  'desc': 'Building an augmented reality platform for the future of learning',\n",
       "  'text_length': 65,\n",
       "  'num_sentences': 1,\n",
       "  'token_count': 10,\n",
       "  'text_length_outlier_bound': 'no_outlier',\n",
       "  'num_sentences_outlier_bound': 'no_outlier',\n",
       "  'token_count_outlier_bound': 'no_outlier',\n",
       "  'name': 'Building ',\n",
       "  'cluster_label': 1}]"
      ]
     },
     "execution_count": 54,
     "metadata": {},
     "output_type": "execute_result"
    }
   ],
   "source": [
    "data[data['cluster_label'] == 1].sample(5).to_dict(orient='records')"
   ]
  },
  {
   "cell_type": "code",
   "execution_count": 55,
   "metadata": {},
   "outputs": [],
   "source": [
    "df = data.copy()\n",
    "\n",
    "df['desc_norm'] = preprocessed_text"
   ]
  },
  {
   "cell_type": "code",
   "execution_count": 56,
   "metadata": {},
   "outputs": [
    {
     "name": "stdout",
     "output_type": "stream",
     "text": [
      "Cluster 4:\n",
      "  cluster_label         word frequency\n",
      "0             4      company       439\n",
      "1             4        found       284\n",
      "2             4     platform       279\n",
      "3             4         base       189\n",
      "4             4   technology       167\n",
      "5             4        datum       149\n",
      "6             4      service       147\n",
      "7             4      provide       145\n",
      "8             4  headquarter       138\n",
      "9             4     customer       123\n",
      "\n",
      "Cluster 5:\n",
      "   cluster_label        word frequency\n",
      "10             5    platform       796\n",
      "11             5     company       725\n",
      "12             5       datum       616\n",
      "13             5     provide       562\n",
      "14             5    solution       513\n",
      "15             5     service       497\n",
      "16             5  technology       493\n",
      "17             5     patient       433\n",
      "18             5      health       418\n",
      "19             5    customer       407\n",
      "\n",
      "Cluster 0:\n",
      "   cluster_label        word frequency\n",
      "20             0     company       672\n",
      "21             0    platform       440\n",
      "22             0       datum       396\n",
      "23             0       found       369\n",
      "24             0    customer       323\n",
      "25             0  technology       293\n",
      "26             0     service       284\n",
      "27             0        base       274\n",
      "28             0     provide       271\n",
      "29             0    solution       256\n",
      "\n",
      "Cluster 3:\n",
      "   cluster_label        word frequency\n",
      "30             3     company       321\n",
      "31             3    platform       275\n",
      "32             3       datum       254\n",
      "33             3     provide       239\n",
      "34             3    solution       233\n",
      "35             3     service       206\n",
      "36             3    customer       201\n",
      "37             3    business       188\n",
      "38             3        base       178\n",
      "39             3  technology       168\n",
      "\n",
      "Cluster 2:\n",
      "   cluster_label         word frequency\n",
      "40             2      company        67\n",
      "41             2        found        46\n",
      "42             2     platform        34\n",
      "43             2  headquarter        26\n",
      "44             2        datum        18\n",
      "45             2      provide        16\n",
      "46             2     customer        15\n",
      "47             2         help        15\n",
      "48             2         base        15\n",
      "49             2       health        15\n",
      "\n",
      "Cluster 1:\n",
      "   cluster_label           word frequency\n",
      "50             1        patient         8\n",
      "51             1       platform         7\n",
      "52             1     management         4\n",
      "53             1        company         4\n",
      "54             1         enable         3\n",
      "55             1             AI         3\n",
      "56             1     healthcare         3\n",
      "57             1          build         3\n",
      "58             1  communication         2\n",
      "59             1         doctor         2\n",
      "\n"
     ]
    }
   ],
   "source": [
    "import pandas as pd\n",
    "from collections import Counter\n",
    "\n",
    "# Assuming your original dataset is a Pandas DataFrame called 'df'\n",
    "# 'desc' column contains the descriptions and 'cluster_label' column contains the cluster labels\n",
    "\n",
    "# Create an empty DataFrame to store the results\n",
    "top_words_df = pd.DataFrame(columns=['cluster_label', 'word', 'frequency'])\n",
    "\n",
    "# Get the unique cluster labels in the dataset\n",
    "unique_clusters = df['cluster_label'].unique()\n",
    "\n",
    "# Iterate over each cluster label and find the top 10 most frequent words\n",
    "for cluster_label in unique_clusters:\n",
    "    # Filter the DataFrame for the current cluster\n",
    "    cluster_df = df[df['cluster_label'] == cluster_label]\n",
    "    \n",
    "    # Concatenate all the descriptions for the current cluster\n",
    "    descriptions = ' '.join(cluster_df['desc_norm'].tolist())\n",
    "    \n",
    "    # Split the text into individual words\n",
    "    words = descriptions.split()\n",
    "    \n",
    "    # Count the frequency of each word\n",
    "    word_counts = Counter(words)\n",
    "    \n",
    "    # Get the top 10 most frequent words\n",
    "    top_words = word_counts.most_common(10)\n",
    "    \n",
    "    # Create a DataFrame for the current cluster's top words\n",
    "    cluster_top_words_df = pd.DataFrame(top_words, columns=['word', 'frequency'])\n",
    "    cluster_top_words_df['cluster_label'] = cluster_label\n",
    "    \n",
    "    # Append the current cluster's top words DataFrame to the overall top words DataFrame\n",
    "    top_words_df = pd.concat([top_words_df, cluster_top_words_df], ignore_index=True)\n",
    "\n",
    "# Sort the DataFrame by cluster_label and frequency\n",
    "top_words_df = top_words_df.sort_values(by=['cluster_label', 'frequency'], ascending=[True, False])\n",
    "\n",
    "# Print the top 10 most frequent words by cluster_label\n",
    "for cluster_label in unique_clusters:\n",
    "    cluster_words_df = top_words_df[top_words_df['cluster_label'] == cluster_label]\n",
    "    print(f\"Cluster {cluster_label}:\")\n",
    "    print(cluster_words_df.head(10))\n",
    "    print()"
   ]
  },
  {
   "cell_type": "code",
   "execution_count": 57,
   "metadata": {},
   "outputs": [
    {
     "data": {
      "image/png": "[encoded data removed]",
      "text/plain": [
       "<Figure size 432x288 with 1 Axes>"
      ]
     },
     "metadata": {},
     "output_type": "display_data"
    }
   ],
   "source": [
    "import pandas as pd\n",
    "import matplotlib.pyplot as plt\n",
    "\n",
    "# Assuming your dataset is a Pandas DataFrame called 'df'\n",
    "# 'cluster_label' column contains the cluster labels\n",
    "\n",
    "# Count the number of instances in each cluster\n",
    "cluster_counts = df['cluster_label'].value_counts()\n",
    "\n",
    "# Create a bar plot to visualize the cluster quantity\n",
    "plt.bar(cluster_counts.index, cluster_counts.values)\n",
    "\n",
    "# Set labels and title for the plot\n",
    "plt.xlabel('Cluster Label')\n",
    "plt.ylabel('Quantity')\n",
    "plt.title('Cluster Quantity')\n",
    "\n",
    "# Display the plot\n",
    "plt.show()"
   ]
  },
  {
   "cell_type": "markdown",
   "metadata": {},
   "source": [
    "## Conclusions\n",
    "\n",
    "Based on the new results, here are some insights and information you can gather:\n",
    "\n",
    "Cluster 0: The most frequent words in this cluster include 'company,' 'platform,' 'datum,' 'found,' 'customer,' 'technology,' 'service,' 'base,' 'provide,' and 'solution.' This cluster might represent descriptions related to companies, platforms, and services in various industries.\n",
    "\n",
    "Cluster 1: This cluster has lower frequencies and includes terms like 'patient,' 'platform,' 'management,' 'company,' 'enable,' 'AI,' 'healthcare,' 'build,' 'communication,' and 'doctor.' This cluster might represent descriptions related to healthcare management, platforms, and communication tools, with a focus on patient-related aspects.\n",
    "\n",
    "Cluster 2: This cluster has lower frequencies overall. The most frequent words include 'company,' 'found,' 'platform,' 'headquarter,' 'datum,' 'provide,' 'customer,' 'help,' 'base,' and 'health.' This cluster might represent descriptions related to companies, platforms, and services, with a possible focus on the healthcare or health-related domain.\n",
    "\n",
    "Cluster 3: This cluster also contains frequent terms like 'company,' 'platform,' 'datum,' 'provide,' 'solution,' 'service,' 'customer,' 'business,' 'base,' and 'technology.' This cluster might represent descriptions related to companies, platforms, and services in various industries, with a particular emphasis on business-related aspects.\n",
    "\n",
    "Cluster 4: The most frequent words in this cluster include 'company,' 'found,' 'platform,' 'base,' 'technology,' 'datum,' 'service,' 'provide,' 'headquarter,' and 'customer.' This cluster might represent descriptions related to companies, platforms, and services in various industries.\n",
    "\n",
    "Cluster 5: This cluster has high frequencies for terms like 'platform,' 'company,' 'datum,' 'provide,' 'solution,' 'service,' 'technology,' 'patient,' 'health,' and 'customer.' This cluster might represent descriptions related to platforms and services in the healthcare or patient-focused domain.\n",
    "\n",
    "\n",
    "By analyzing the most frequent words in each cluster, you can gain insights into the common terms and themes associated with each cluster. This analysis can help you identify patterns, similarities, and differences among the clusters and provide insights into the underlying topics or categories represented by each cluster.\n",
    "\n",
    "In conclusion, Word2Vec embeddings have proven to be valuable in capturing semantic relationships and similarities between words in text data. The embeddings enable various operations, such as word analogies and measuring text similarity, which offer insights into the underlying semantic structure of the data. However, when applying K-means clustering to short descriptions for sector segmentation, the results may not meet expectations due to certain factors. Insufficient or inconsistent data quality, inadequate representation of sector-specific information in the embeddings, and an incorrect number of clusters are potential reasons for suboptimal clustering outcomes. Additionally, the limited amount of data may impact the effectiveness of the K-means algorithm. Exploring alternative feature representations, considering other relevant features, and evaluating the clustering results with domain knowledge are recommended steps to enhance sector-based clustering accuracy."
   ]
  }
 ],
 "metadata": {
  "kernelspec": {
   "display_name": "Python 3",
   "language": "python",
   "name": "python3"
  },
  "language_info": {
   "codemirror_mode": {
    "name": "ipython",
    "version": 3
   },
   "file_extension": ".py",
   "mimetype": "text/x-python",
   "name": "python",
   "nbconvert_exporter": "python",
   "pygments_lexer": "ipython3",
   "version": "3.8.3"
  }
 },
 "nbformat": 4,
 "nbformat_minor": 4
}
